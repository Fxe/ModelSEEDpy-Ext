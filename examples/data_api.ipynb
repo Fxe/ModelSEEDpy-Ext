{
 "cells": [
  {
   "cell_type": "markdown",
   "id": "540364d2-a6eb-41f0-8031-37d0319b127c",
   "metadata": {},
   "source": [
    "### KEGG"
   ]
  },
  {
   "cell_type": "code",
   "execution_count": 77,
   "id": "69c80985-c365-4b00-8668-4cd9219f15ef",
   "metadata": {},
   "outputs": [],
   "source": [
    "import os\n",
    "cache = '.'\n",
    "db = 'META'\n",
    "if not os.path.exists(cache + '/' + db):\n",
    "    os.mkdir(cache + '/' + db)"
   ]
  },
  {
   "cell_type": "markdown",
   "id": "768f4d56-1259-4db9-a9aa-1a61cb68a45e",
   "metadata": {},
   "source": [
    "### BioCyc"
   ]
  },
  {
   "cell_type": "code",
   "execution_count": 135,
   "id": "51ef2810-42e4-4e4f-a2ad-630c25587709",
   "metadata": {
    "tags": []
   },
   "outputs": [
    {
     "name": "stdout",
     "output_type": "stream",
     "text": [
      "BiocycQuery.Pathways 4205\n",
      "BiocycQuery.Proteins 24391\n",
      "BiocycQuery.Reactions 20552\n",
      "BiocycQuery.Compounds 24705\n",
      "BiocycQuery.Genes 15514\n",
      "BiocycQuery.Organisms 9165\n"
     ]
    },
    {
     "data": {
      "text/plain": [
       "b'<?xml version=\"1.0\" encoding=\"iso-8859-1\"?>\\n<ptools-xml ptools-version=\\'27.0\\' xml:base=\\'http://BioCyc.org/getxml?META:RXN-15479\\'><metadata><url>http://BioCyc.org/</url>\\n<service_name>getxml</service_name>\\n<query>META:RXN-15479</query>\\n<num_results>1</num_results>\\n<PGDB orgid=\\'META\\' version=\\'27.0\\'><species datatype=\\'string\\'>MetaCyc</species>\\n</PGDB>\\n</metadata>\\n<Reaction ID=\\'META:RXN-15479\\' orgid=\\'META\\' frameid=\\'RXN-15479\\' detail=\\'full\\'><parent><Reaction resource=\\'getxml?META:Electron-Transfer-Reactions\\' orgid=\\'META\\' frameid=\\'Electron-Transfer-Reactions\\' class=\\'true\\'/></parent>\\n<parent><Reaction resource=\\'getxml?META:Protein-Modification-Reactions\\' orgid=\\'META\\' frameid=\\'Protein-Modification-Reactions\\' class=\\'true\\'/></parent>\\n<left><Protein resource=\\'getxml?META:Oxidized-Plastocyanins\\' orgid=\\'META\\' frameid=\\'Oxidized-Plastocyanins\\' class=\\'true\\'/><compartment><cco resource=\\'getxml?META:CCO-IN\\' orgid=\\'META\\' frameid=\\'CCO-IN\\'/></compartment>\\n</left>\\n<left><Protein resource=\\'getxml?META:Reduced-ferredoxins\\' orgid=\\'META\\' frameid=\\'Reduced-ferredoxins\\' class=\\'true\\'/><compartment><cco resource=\\'getxml?META:CCO-OUT\\' orgid=\\'META\\' frameid=\\'CCO-OUT\\'/></compartment>\\n</left>\\n<reaction-ordering><Reaction resource=\\'getxml?META:RXN-12647\\' orgid=\\'META\\' frameid=\\'RXN-12647\\'/><predecessor-reactions><Reaction resource=\\'getxml?META:RXN-15468\\' orgid=\\'META\\' frameid=\\'RXN-15468\\'/></predecessor-reactions>\\n</reaction-ordering>\\n<enzymatic-reaction><Enzymatic-Reaction ID=\\'META:ENZRXN490-3610\\' orgid=\\'META\\' frameid=\\'ENZRXN490-3610\\' detail=\\'low\\'><enzyme><Protein resource=\\'getxml?META:CPLX490-3509\\' orgid=\\'META\\' frameid=\\'CPLX490-3509\\'/></enzyme>\\n<reaction><Reaction resource=\\'#META:RXN-15479\\' orgid=\\'META\\' frameid=\\'RXN-15479\\'/></reaction>\\n<common-name datatype=\\'string\\'>photosystem I</common-name>\\n</Enzymatic-Reaction>\\n<Enzymatic-Reaction ID=\\'META:ENZRXN-1402\\' orgid=\\'META\\' frameid=\\'ENZRXN-1402\\' detail=\\'low\\'><enzyme><Protein resource=\\'getxml?META:CPLX-84\\' orgid=\\'META\\' frameid=\\'CPLX-84\\'/></enzyme>\\n<reaction><Reaction resource=\\'#META:RXN-15479\\' orgid=\\'META\\' frameid=\\'RXN-15479\\'/></reaction>\\n<common-name datatype=\\'string\\'>photosystem I</common-name>\\n</Enzymatic-Reaction>\\n<Enzymatic-Reaction ID=\\'META:ENZRXN-1243\\' orgid=\\'META\\' frameid=\\'ENZRXN-1243\\' detail=\\'low\\'><enzyme><Protein resource=\\'getxml?META:CPLX-985\\' orgid=\\'META\\' frameid=\\'CPLX-985\\'/></enzyme>\\n<reaction><Reaction resource=\\'#META:RXN-15479\\' orgid=\\'META\\' frameid=\\'RXN-15479\\'/></reaction>\\n<common-name datatype=\\'string\\'>photosystem I</common-name>\\n</Enzymatic-Reaction>\\n<Enzymatic-Reaction ID=\\'META:ENZRXN-19027\\' orgid=\\'META\\' frameid=\\'ENZRXN-19027\\' detail=\\'low\\'><enzyme><Protein resource=\\'getxml?META:CPLX4LZ-2\\' orgid=\\'META\\' frameid=\\'CPLX4LZ-2\\'/></enzyme>\\n<reaction><Reaction resource=\\'#META:RXN-15479\\' orgid=\\'META\\' frameid=\\'RXN-15479\\'/></reaction>\\n<common-name datatype=\\'string\\'>photosystem I</common-name>\\n</Enzymatic-Reaction>\\n<Enzymatic-Reaction ID=\\'META:ENZRXN-19833\\' orgid=\\'META\\' frameid=\\'ENZRXN-19833\\' detail=\\'low\\'><enzyme><Protein resource=\\'getxml?META:CHRECP067-MONOMER\\' orgid=\\'META\\' frameid=\\'CHRECP067-MONOMER\\'/></enzyme>\\n<reaction><Reaction resource=\\'#META:RXN-15479\\' orgid=\\'META\\' frameid=\\'RXN-15479\\'/></reaction>\\n<common-name datatype=\\'string\\'>ferredoxin oxidoreductase</common-name>\\n</Enzymatic-Reaction>\\n</enzymatic-reaction>\\n<dblink><dblink-db>METANETX-RXN</dblink-db>\\n<dblink-oid>MNXR119393</dblink-oid>\\n<dblink-relationship>unification</dblink-relationship>\\n<dblink-URL>https://www.metanetx.org/equa_info/MNXR119393</dblink-URL>\\n</dblink>\\n<ec-number>EC-1.97.1.12<official>T</official>\\n</ec-number>\\n<reaction-list><Reaction resource=\\'getxml?META:RXN-15490\\' orgid=\\'META\\' frameid=\\'RXN-15490\\'/><Reaction resource=\\'getxml?META:RXN-12647\\' orgid=\\'META\\' frameid=\\'RXN-12647\\'/><Reaction resource=\\'getxml?META:RXN-15468\\' orgid=\\'META\\' frameid=\\'RXN-15468\\'/></reaction-list>\\n<reaction-direction>PHYSIOL-RIGHT-TO-LEFT</reaction-direction>\\n<orphan>NO</orphan>\\n<physiologically-relevant datatype=\\'boolean\\'>true</physiologically-relevant>\\n<right><Compound resource=\\'getxml?META:Light\\' orgid=\\'META\\' frameid=\\'Light\\' class=\\'true\\'/><compartment><cco resource=\\'getxml?META:CCO-CYTOSOL\\' orgid=\\'META\\' frameid=\\'CCO-CYTOSOL\\' class=\\'true\\'/></compartment>\\n</right>\\n<right><Protein resource=\\'getxml?META:Plastocyanin-Reduced\\' orgid=\\'META\\' frameid=\\'Plastocyanin-Reduced\\' class=\\'true\\'/><compartment><cco resource=\\'getxml?META:CCO-IN\\' orgid=\\'META\\' frameid=\\'CCO-IN\\'/></compartment>\\n</right>\\n<right><Protein resource=\\'getxml?META:Oxidized-ferredoxins\\' orgid=\\'META\\' frameid=\\'Oxidized-ferredoxins\\' class=\\'true\\'/><compartment><cco resource=\\'getxml?META:CCO-OUT\\' orgid=\\'META\\' frameid=\\'CCO-OUT\\'/></compartment>\\n</right>\\n<credits><created><date datatype=\\'date\\'>2014-04-14</date>\\n<Person ID=\\'META:kr\\' orgid=\\'META\\' frameid=\\'kr\\' detail=\\'full\\'><common-name datatype=\\'string\\'>Markus Krummenacker</common-name>\\n<email datatype=\\'string\\'>kr@ai.sri.com</email>\\n<affiliations><Organization ID=\\'META:SRI\\' orgid=\\'META\\' frameid=\\'SRI\\' detail=\\'full\\'><url datatype=\\'string\\'>http://bioinformatics.ai.sri.com/</url>\\n<common-name datatype=\\'string\\'>SRI International</common-name>\\n<email datatype=\\'string\\'>ptools-support@ai.sri.com</email>\\n<abbrev-name datatype=\\'string\\'>SRI International</abbrev-name>\\n</Organization>\\n</affiliations>\\n<comment datatype=\\'string\\'>Markus is a Scientific Programmer in the Bioinformatics Research Group (BRG) at SRI.  He has worked on the Pathway Tools software and what became the BioCyc Website between 1996 and 1999, and rejoined the project in 2004.</comment>\\n</Person>\\n<Organization resource=\\'#META:SRI\\' orgid=\\'META\\' frameid=\\'SRI\\'/></created>\\n</credits>\\n<in-pathway><Pathway resource=\\'getxml?META:PWY-8270\\' orgid=\\'META\\' frameid=\\'PWY-8270\\'/><Pathway resource=\\'getxml?META:PWY-101\\' orgid=\\'META\\' frameid=\\'PWY-101\\'/></in-pathway>\\n</Reaction>\\n</ptools-xml>\\n'"
      ]
     },
     "execution_count": 135,
     "metadata": {},
     "output_type": "execute_result"
    }
   ],
   "source": [
    "import requests\n",
    "import os\n",
    "from enum import Enum\n",
    "\n",
    "class BiocycAPICached(BiocycAPI):\n",
    "    \n",
    "    def __init__(self, cache, db='META', email=None, password=None):\n",
    "        self.cache = cache\n",
    "        super().__init__(db, email, password)\n",
    "    \n",
    "    def cache_fetch(self, frame_id):\n",
    "        if not os.path.exists(f'{self.cache}/{self.db}'):\n",
    "            return None\n",
    "        \n",
    "        frame_file = frame_id + '.xml'\n",
    "        for d in os.listdir(f'{self.cache}/{self.db}'):\n",
    "            path = f'{self.cache}/{self.db}/{d}'\n",
    "            if os.path.isdir(path):\n",
    "                files = os.listdir(path)\n",
    "                if frame_file in files:\n",
    "                    with open(f'{self.cache}/{self.db}/{d}/{frame_id}.xml', 'rb') as fh:\n",
    "                        return fh.read()\n",
    "        return None\n",
    "        \n",
    "    def cache_store(self, frame_id, data, object_type):\n",
    "        if not os.path.exists(f'{self.cache}/{self.db}'):\n",
    "            os.mkdir(f'{self.cache}/{self.db}')\n",
    "        if not os.path.exists(f'{self.cache}/{self.db}/{object_type}'):\n",
    "            os.mkdir(f'{self.cache}/{self.db}/{object_type}')\n",
    "        with open(f'{self.cache}/{self.db}/{object_type}/{frame_id}.xml', 'wb') as fh:\n",
    "            fh.write(data)\n",
    "            \n",
    "    def cache_query(self, biocyc_query: BiocycQuery):\n",
    "        if not os.path.exists(f'{self.cache}/{self.db}'):\n",
    "            return None\n",
    "        if not os.path.exists(f'{self.cache}/{self.db}/query'):\n",
    "            return None\n",
    "        if not os.path.exists(f'{self.cache}/{self.db}/query/{biocyc_query.name}.txt'):\n",
    "            return None\n",
    "        with open(f'{self.cache}/{self.db}/query/{biocyc_query.name}.txt', 'r') as fh:\n",
    "            return fh.read().split()\n",
    "        \n",
    "    def save_query(self, biocyc_query: BiocycQuery, items):\n",
    "        if not os.path.exists(f'{self.cache}/{self.db}'):\n",
    "            os.mkdir(f'{self.cache}/{self.db}')\n",
    "        if not os.path.exists(f'{self.cache}/{self.db}/query'):\n",
    "            os.mkdir(f'{self.cache}/{self.db}/query')\n",
    "        with open(f'{self.cache}/{self.db}/query/{biocyc_query.name}.txt', 'w') as fh:\n",
    "            for i in items:\n",
    "                fh.write(i + '\\n')\n",
    "        \n",
    "    def fetch(self, frame_id, detail='high'):\n",
    "        data = self.cache_fetch(frame_id)\n",
    "        if data:\n",
    "            return data\n",
    "        else:\n",
    "            resp = super().fetch(frame_id, detail)\n",
    "            object_type = _detect_class(resp)\n",
    "            print(object_type)\n",
    "            self.cache_store(frame_id, resp.content, object_type)\n",
    "            \n",
    "        return resp\n",
    "    \n",
    "    def query(self, biocyc_query: BiocycQuery, detail='none'):\n",
    "        items = self.cache_query(biocyc_query)\n",
    "        if items is None:\n",
    "            print('loading!!')\n",
    "            items = super().query(biocyc_query, detail)\n",
    "            self.save_query(biocyc_query, items)\n",
    "            \n",
    "        return items\n",
    "        \n",
    "        \n",
    "\n",
    "class BiocycAPI:\n",
    "\n",
    "    def __init__(self, db='META', email=None, password=None):\n",
    "        self.db = db\n",
    "        self.end_point = 'https://websvc.biocyc.org'\n",
    "        self.session = None\n",
    "        if email and password:\n",
    "            self.session = requests.Session()\n",
    "            self.session.post(f'{self.end_point}/credentials/login/', \n",
    "                              data={'email': email, 'password': password})\n",
    "        \n",
    "    def get_session(self):\n",
    "        if self.session:\n",
    "            return self.session\n",
    "        else:\n",
    "            return requests\n",
    "\n",
    "    def fetch(self, frame_id, detail='high'):\n",
    "        resp = self.get_session().get(f'{self.end_point}/getxml?id={self.db}:{frame_id}&detail={detail}')\n",
    "        return resp\n",
    "    \n",
    "    def query(self, biocyc_query: BiocycQuery, detail='none'):\n",
    "        \"\"\"\n",
    "        @param detail: [none|low|full\n",
    "        \"\"\"\n",
    "        q = f'[x:x<-{self.db}^^{biocyc_query.name}]'\n",
    "        \n",
    "        resp = self.get_session().get(f'{self.end_point}/xmlquery?query={q}&detail={detail}')\n",
    "        \n",
    "        l = _to_list(resp)\n",
    "        \n",
    "        return {o[0]['frameid'] for o in l[biocyc_query.value]}\n",
    "\n",
    "\"\"\"\n",
    "06/20/2023\n",
    "BiocycQuery.Pathways 4205\n",
    "BiocycQuery.Proteins 24391\n",
    "BiocycQuery.Reactions 20552\n",
    "BiocycQuery.Compounds 24705\n",
    "BiocycQuery.Genes 15514\n",
    "BiocycQuery.Organisms 9165\n",
    "\"\"\"\n",
    "    \n",
    "api = BiocycAPICached(cache='.', email='', password='')\n",
    "for q in [\n",
    "    BiocycQuery.Pathways, BiocycQuery.Proteins, BiocycQuery.Reactions, BiocycQuery.Compounds,\n",
    "    BiocycQuery.Genes, \n",
    "    BiocycQuery.Organisms,\n",
    "    \n",
    "]:\n",
    "    res = api.query(q)\n",
    "    print(q, len(res))\n",
    "#api.fetch('PWY-7822')\n",
    "#res = api.fetch('RXN-15479')\n",
    "api.cache_fetch('RXN-15479')"
   ]
  },
  {
   "cell_type": "code",
   "execution_count": 130,
   "id": "14a81402-43b4-4f87-a444-cb808189c2ae",
   "metadata": {},
   "outputs": [],
   "source": []
  },
  {
   "cell_type": "code",
   "execution_count": 113,
   "id": "6ebe771e-4ab6-49cf-8283-21215540722a",
   "metadata": {},
   "outputs": [],
   "source": [
    "res = api.query(BiocycQuery.Pathways)"
   ]
  },
  {
   "cell_type": "code",
   "execution_count": null,
   "id": "3b4c1702-7f09-4c51-ac93-532ddc278629",
   "metadata": {},
   "outputs": [],
   "source": [
    "s = requests.Session() # create session\n",
    "    # Post login credentials to session:\n",
    "    s.post('https://websvc.biocyc.org/credentials/login/', data={'email':'[email]', 'password':'[password]'})\n",
    "    # Issue web service request:\n",
    "    r = s.get('https://websvc.biocyc.org/[request]')"
   ]
  },
  {
   "cell_type": "code",
   "execution_count": 119,
   "id": "8f9cc10e-ceeb-4fd2-bb3c-a45a30d97303",
   "metadata": {},
   "outputs": [
    {
     "ename": "TypeError",
     "evalue": "cache_fetch() missing 1 required positional argument: 'object_type'",
     "output_type": "error",
     "traceback": [
      "\u001b[0;31m---------------------------------------------------------------------------\u001b[0m",
      "\u001b[0;31mTypeError\u001b[0m                                 Traceback (most recent call last)",
      "\u001b[0;32m/tmp/ipykernel_3797400/847398955.py\u001b[0m in \u001b[0;36m<module>\u001b[0;34m\u001b[0m\n\u001b[0;32m----> 1\u001b[0;31m \u001b[0mres\u001b[0m \u001b[0;34m=\u001b[0m \u001b[0mapi\u001b[0m\u001b[0;34m.\u001b[0m\u001b[0mfetch\u001b[0m\u001b[0;34m(\u001b[0m\u001b[0;34m'RXN-15479'\u001b[0m\u001b[0;34m)\u001b[0m\u001b[0;34m\u001b[0m\u001b[0;34m\u001b[0m\u001b[0m\n\u001b[0m",
      "\u001b[0;32m/tmp/ipykernel_3797400/4048397780.py\u001b[0m in \u001b[0;36mfetch\u001b[0;34m(self, frame_id, detail)\u001b[0m\n\u001b[1;32m     47\u001b[0m \u001b[0;34m\u001b[0m\u001b[0m\n\u001b[1;32m     48\u001b[0m     \u001b[0;32mdef\u001b[0m \u001b[0mfetch\u001b[0m\u001b[0;34m(\u001b[0m\u001b[0mself\u001b[0m\u001b[0;34m,\u001b[0m \u001b[0mframe_id\u001b[0m\u001b[0;34m,\u001b[0m \u001b[0mdetail\u001b[0m\u001b[0;34m=\u001b[0m\u001b[0;34m'high'\u001b[0m\u001b[0;34m)\u001b[0m\u001b[0;34m:\u001b[0m\u001b[0;34m\u001b[0m\u001b[0;34m\u001b[0m\u001b[0m\n\u001b[0;32m---> 49\u001b[0;31m         \u001b[0mdata\u001b[0m \u001b[0;34m=\u001b[0m \u001b[0mself\u001b[0m\u001b[0;34m.\u001b[0m\u001b[0mcache_fetch\u001b[0m\u001b[0;34m(\u001b[0m\u001b[0mframe_id\u001b[0m\u001b[0;34m)\u001b[0m\u001b[0;34m\u001b[0m\u001b[0;34m\u001b[0m\u001b[0m\n\u001b[0m\u001b[1;32m     50\u001b[0m         \u001b[0;32mif\u001b[0m \u001b[0mdata\u001b[0m\u001b[0;34m:\u001b[0m\u001b[0;34m\u001b[0m\u001b[0;34m\u001b[0m\u001b[0m\n\u001b[1;32m     51\u001b[0m             \u001b[0;32mreturn\u001b[0m \u001b[0mdata\u001b[0m\u001b[0;34m\u001b[0m\u001b[0;34m\u001b[0m\u001b[0m\n",
      "\u001b[0;31mTypeError\u001b[0m: cache_fetch() missing 1 required positional argument: 'object_type'"
     ]
    }
   ],
   "source": [
    "res = api.fetch('RXN-15479')"
   ]
  },
  {
   "cell_type": "code",
   "execution_count": 61,
   "id": "5874ef06-7e6c-4085-90ca-cecba409c0af",
   "metadata": {},
   "outputs": [
    {
     "data": {
      "text/plain": [
       "'Reaction'"
      ]
     },
     "execution_count": 61,
     "metadata": {},
     "output_type": "execute_result"
    }
   ],
   "source": [
    "def _detect_class(resp):\n",
    "    \n",
    "    parser = ET.iterparse(BytesIO(resp.content), events=(\"end\", \"start\"))\n",
    "    for action, elem in parser:\n",
    "        if action == \"end\" and elem.tag == \"metadata\":\n",
    "            for action, elem in parser:\n",
    "                if action == 'start':\n",
    "                    return elem.tag\n",
    "\n",
    "    raise Exception(\"unable to detect class\")\n",
    "_detect_class(res)"
   ]
  },
  {
   "cell_type": "code",
   "execution_count": 136,
   "id": "7ea41550-3af4-4012-972b-2104cedc965b",
   "metadata": {
    "tags": []
   },
   "outputs": [],
   "source": [
    "#print(res.content.decode('utf-8'))"
   ]
  },
  {
   "cell_type": "code",
   "execution_count": 49,
   "id": "2dabacac-d134-44fb-94db-079eb7e5aa55",
   "metadata": {},
   "outputs": [
    {
     "data": {
      "text/plain": [
       "'Pathway'"
      ]
     },
     "execution_count": 49,
     "metadata": {},
     "output_type": "execute_result"
    }
   ],
   "source": [
    "from enum import Enum\n",
    "class BiocycQuery(Enum):\n",
    "    Pathways = 'Pathway'\n",
    "    Reactions = 'Reaction'\n",
    "    Compounds = 'Compound'\n",
    "    Proteins = 'Protein'\n",
    "    Genes = 'Gene'\n",
    "    Organisms = 'Organism'\n",
    "BiocycQuery.Pathways.value"
   ]
  },
  {
   "cell_type": "code",
   "execution_count": 25,
   "id": "71ce5a26-99f9-47cc-b60a-eb53705bfdd8",
   "metadata": {
    "tags": []
   },
   "outputs": [
    {
     "data": {
      "text/plain": [
       "4205"
      ]
     },
     "execution_count": 25,
     "metadata": {},
     "output_type": "execute_result"
    }
   ],
   "source": [
    "from io import BytesIO\n",
    "import lxml.etree as ET\n",
    "\n",
    "def _to_list(resp):\n",
    "    res = {}\n",
    "    \n",
    "    parser = ET.iterparse(BytesIO(resp.content), events=(\"end\", \"start\"))\n",
    "    for action, elem in parser:\n",
    "        if action == \"end\" and elem.tag == \"metadata\":\n",
    "            for action, elem in parser:\n",
    "                if action == 'start':\n",
    "                    if elem.tag not in res:\n",
    "                        res[elem.tag] = []\n",
    "                    res[elem.tag].append([dict(elem.attrib), elem.text])\n",
    "                elif action == \"end\" and elem.tag == \"ptools-xml\":\n",
    "                    return res\n",
    "    \n",
    "    raise Exception(\"unexpected ending\")\n",
    "\n",
    "def _detect_class(xml_str):\n",
    "    clazz = None\n",
    "    return clazz\n",
    "\n",
    "l = _to_list(res)\n",
    "len(l['Pathway'])"
   ]
  },
  {
   "cell_type": "code",
   "execution_count": null,
   "id": "c6837cd5-1e02-4a61-b6f8-988eced3663f",
   "metadata": {
    "tags": []
   },
   "outputs": [],
   "source": []
  },
  {
   "cell_type": "markdown",
   "id": "1d63835d-0efb-4ab2-aef3-358c52725897",
   "metadata": {},
   "source": [
    "### NCBI Eutils"
   ]
  },
  {
   "cell_type": "code",
   "execution_count": null,
   "id": "eb0dc06c-e5f2-4a54-ad49-b0ecda218a6f",
   "metadata": {},
   "outputs": [],
   "source": [
    "https://websvc.biocyc.org/xmlquery?query=[QUERY]&detail=[none|low|full]"
   ]
  }
 ],
 "metadata": {
  "kernelspec": {
   "display_name": "Python 3 (ipykernel)",
   "language": "python",
   "name": "python3"
  },
  "language_info": {
   "codemirror_mode": {
    "name": "ipython",
    "version": 3
   },
   "file_extension": ".py",
   "mimetype": "text/x-python",
   "name": "python",
   "nbconvert_exporter": "python",
   "pygments_lexer": "ipython3",
   "version": "3.8.10"
  }
 },
 "nbformat": 4,
 "nbformat_minor": 5
}
