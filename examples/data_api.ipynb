{
 "cells": [
  {
   "cell_type": "markdown",
   "id": "540364d2-a6eb-41f0-8031-37d0319b127c",
   "metadata": {},
   "source": [
    "### KEGG"
   ]
  },
  {
   "cell_type": "code",
   "execution_count": 77,
   "id": "69c80985-c365-4b00-8668-4cd9219f15ef",
   "metadata": {},
   "outputs": [],
   "source": []
  },
  {
   "cell_type": "code",
   "execution_count": 137,
   "id": "4617474b-52cf-4aa5-b4b4-6baa2cd9820e",
   "metadata": {},
   "outputs": [],
   "source": []
  },
  {
   "cell_type": "code",
   "execution_count": 138,
   "id": "9c74f4be-b14d-4e6d-8ff4-ee18f868d750",
   "metadata": {},
   "outputs": [
    {
     "data": {
      "text/plain": [
       "<Response [200]>"
      ]
     },
     "execution_count": 138,
     "metadata": {},
     "output_type": "execute_result"
    }
   ],
   "source": []
  },
  {
   "cell_type": "markdown",
   "id": "768f4d56-1259-4db9-a9aa-1a61cb68a45e",
   "metadata": {},
   "source": [
    "### BioCyc"
   ]
  },
  {
   "cell_type": "code",
   "execution_count": 8,
   "id": "51ef2810-42e4-4e4f-a2ad-630c25587709",
   "metadata": {
    "collapsed": true,
    "jupyter": {
     "outputs_hidden": true
    },
    "tags": []
   },
   "outputs": [
    {
     "data": {
      "text/plain": [
       "b'<?xml version=\"1.0\" encoding=\"iso-8859-1\"?>\\n<ptools-xml ptools-version=\\'27.0\\' xml:base=\\'http://BioCyc.org/getxml?META:CHITOBIOSE\\'><metadata><url>http://BioCyc.org/</url>\\n<service_name>getxml</service_name>\\n<query>META:CHITOBIOSE</query>\\n<num_results>1</num_results>\\n<PGDB orgid=\\'META\\' version=\\'27.0\\'><species datatype=\\'string\\'>MetaCyc</species>\\n</PGDB>\\n</metadata>\\n<Compound ID=\\'META:CHITOBIOSE\\' orgid=\\'META\\' frameid=\\'CHITOBIOSE\\' detail=\\'full\\' class=\\'true\\'><parent><Compound resource=\\'getxml?META:Chitodextrins\\' orgid=\\'META\\' frameid=\\'Chitodextrins\\' class=\\'true\\'/></parent>\\n<parent><Compound resource=\\'getxml?META:Disaccharides\\' orgid=\\'META\\' frameid=\\'Disaccharides\\' class=\\'true\\'/></parent>\\n<cml><molecule id=\\'CHITOBIOSE\\' title=\\'N,N%27-diacetylchitobiose\\' formalCharge=\\'0\\'><atomArray><atom id=\\'CHITOBIOSE-atom1\\' elementType=\\'C\\' x2=\\'3.572e+7\\' y2=\\'1.2375e+7\\'/><atom id=\\'CHITOBIOSE-atom2\\' elementType=\\'C\\' x2=\\'7145000.0\\' y2=\\'2.8872002e+7\\'/><atom id=\\'CHITOBIOSE-atom3\\' elementType=\\'C\\' x2=\\'-2.8574e+7\\' y2=\\'1000.0\\'/><atom id=\\'CHITOBIOSE-atom4\\' elementType=\\'C\\' x2=\\'0.0\\' y2=\\'-1.6497e+7\\'/><atom id=\\'CHITOBIOSE-atom5\\' elementType=\\'C\\' x2=\\'2.8575e+7\\' y2=\\'8250000.0\\'/><atom id=\\'CHITOBIOSE-atom6\\' elementType=\\'C\\' x2=\\'0.0\\' y2=\\'2.4747e+7\\'/><atom id=\\'CHITOBIOSE-atom7\\' elementType=\\'C\\' x2=\\'-2.1429998e+7\\' y2=\\'4126000.0\\'/><atom id=\\'CHITOBIOSE-atom8\\' elementType=\\'C\\' x2=\\'7140000.0\\' y2=\\'-1.2379e+7\\'/><atom id=\\'CHITOBIOSE-atom9\\' elementType=\\'C\\' x2=\\'2.1426e+7\\' y2=\\'-4120000.0\\'/><atom id=\\'CHITOBIOSE-atom10\\' elementType=\\'C\\' x2=\\'-7145000.0\\' y2=\\'1.2375e+7\\'/><atom id=\\'CHITOBIOSE-atom11\\' elementType=\\'C\\' x2=\\'-2.1432e+7\\' y2=\\'1.2368e+7\\'/><atom id=\\'CHITOBIOSE-atom12\\' elementType=\\'C\\' x2=\\'-1.4282e+7\\' y2=\\'1.6496e+7\\'/><atom id=\\'CHITOBIOSE-atom13\\' elementType=\\'C\\' x2=\\'1.4289e+7\\' y2=\\'0.0\\'/><atom id=\\'CHITOBIOSE-atom14\\' elementType=\\'C\\' x2=\\'7140000.0\\' y2=\\'-4120000.0\\'/><atom id=\\'CHITOBIOSE-atom15\\' elementType=\\'C\\' x2=\\'2.1426e+7\\' y2=\\'-1.2379e+7\\'/><atom id=\\'CHITOBIOSE-atom16\\' elementType=\\'C\\' x2=\\'-7138000.0\\' y2=\\'4123000.0\\'/><atom id=\\'CHITOBIOSE-atom17\\' elementType=\\'N\\' x2=\\'2.8575e+7\\' y2=\\'0.0\\'/><atom id=\\'CHITOBIOSE-atom18\\' elementType=\\'N\\' x2=\\'0.0\\' y2=\\'1.6497999e+7\\'/><atom id=\\'CHITOBIOSE-atom19\\' elementType=\\'O\\' x2=\\'-3.5721e+7\\' y2=\\'4119000.0\\'/><atom id=\\'CHITOBIOSE-atom20\\' elementType=\\'O\\' x2=\\'-7145000.0\\' y2=\\'-1.2374001e+7\\'/><atom id=\\'CHITOBIOSE-atom21\\' elementType=\\'O\\' x2=\\'2.1431e+7\\' y2=\\'1.2375e+7\\'/><atom id=\\'CHITOBIOSE-atom22\\' elementType=\\'O\\' x2=\\'-7145000.0\\' y2=\\'2.8872002e+7\\'/><atom id=\\'CHITOBIOSE-atom23\\' elementType=\\'O\\' x2=\\'-2.8574e+7\\' y2=\\'1.6497999e+7\\'/><atom id=\\'CHITOBIOSE-atom24\\' elementType=\\'O\\' x2=\\'-1.4289e+7\\' y2=\\'2.4746e+7\\'/><atom id=\\'CHITOBIOSE-atom25\\' elementType=\\'O\\' x2=\\'1.4289e+7\\' y2=\\'8249000.0\\'/><atom id=\\'CHITOBIOSE-atom26\\' elementType=\\'O\\' x2=\\'2.8575e+7\\' y2=\\'-1.6497e+7\\'/><atom id=\\'CHITOBIOSE-atom27\\' elementType=\\'O\\' x2=\\'1.4289e+7\\' y2=\\'-1.6497e+7\\'/><atom id=\\'CHITOBIOSE-atom28\\' elementType=\\'O\\' x2=\\'-1.429e+7\\' y2=\\'-7000.0\\'/><atom id=\\'CHITOBIOSE-atom29\\' elementType=\\'O\\' x2=\\'0.0\\' y2=\\'0.0\\'/></atomArray>\\n<bondArray><bond id=\\'CHITOBIOSE-bond1\\' atomRefs=\\'CHITOBIOSE-atom16 CHITOBIOSE-atom29\\' order=\\'1\\'/><bond id=\\'CHITOBIOSE-bond2\\' atomRefs=\\'CHITOBIOSE-atom14 CHITOBIOSE-atom29\\' order=\\'1\\'/><bond id=\\'CHITOBIOSE-bond3\\' atomRefs=\\'CHITOBIOSE-atom16 CHITOBIOSE-atom10\\' order=\\'1\\'/><bond id=\\'CHITOBIOSE-bond4\\' atomRefs=\\'CHITOBIOSE-atom16 CHITOBIOSE-atom28\\' order=\\'1\\'/><bond id=\\'CHITOBIOSE-bond5\\' atomRefs=\\'CHITOBIOSE-atom10 CHITOBIOSE-atom12\\' order=\\'1\\'/><bond id=\\'CHITOBIOSE-bond6\\' atomRefs=\\'CHITOBIOSE-atom10 CHITOBIOSE-atom18\\' order=\\'1\\'/><bond id=\\'CHITOBIOSE-bond7\\' atomRefs=\\'CHITOBIOSE-atom28 CHITOBIOSE-atom7\\' order=\\'1\\'/><bond id=\\'CHITOBIOSE-bond8\\' atomRefs=\\'CHITOBIOSE-atom12 CHITOBIOSE-atom11\\' order=\\'1\\'/><bond id=\\'CHITOBIOSE-bond9\\' atomRefs=\\'CHITOBIOSE-atom12 CHITOBIOSE-atom24\\' order=\\'1\\'/><bond id=\\'CHITOBIOSE-bond10\\' atomRefs=\\'CHITOBIOSE-atom14 CHITOBIOSE-atom8\\' order=\\'1\\'/><bond id=\\'CHITOBIOSE-bond11\\' atomRefs=\\'CHITOBIOSE-atom14 CHITOBIOSE-atom13\\' order=\\'1\\'/><bond id=\\'CHITOBIOSE-bond12\\' atomRefs=\\'CHITOBIOSE-atom7 CHITOBIOSE-atom3\\' order=\\'1\\'/><bond id=\\'CHITOBIOSE-bond13\\' atomRefs=\\'CHITOBIOSE-atom11 CHITOBIOSE-atom23\\' order=\\'1\\'/><bond id=\\'CHITOBIOSE-bond14\\' atomRefs=\\'CHITOBIOSE-atom8 CHITOBIOSE-atom27\\' order=\\'1\\'/><bond id=\\'CHITOBIOSE-bond15\\' atomRefs=\\'CHITOBIOSE-atom8 CHITOBIOSE-atom4\\' order=\\'1\\'/><bond id=\\'CHITOBIOSE-bond16\\' atomRefs=\\'CHITOBIOSE-atom13 CHITOBIOSE-atom9\\' order=\\'1\\'/><bond id=\\'CHITOBIOSE-bond17\\' atomRefs=\\'CHITOBIOSE-atom13 CHITOBIOSE-atom25\\' order=\\'1\\'/><bond id=\\'CHITOBIOSE-bond18\\' atomRefs=\\'CHITOBIOSE-atom3 CHITOBIOSE-atom19\\' order=\\'1\\'/><bond id=\\'CHITOBIOSE-bond19\\' atomRefs=\\'CHITOBIOSE-atom27 CHITOBIOSE-atom15\\' order=\\'1\\'/><bond id=\\'CHITOBIOSE-bond20\\' atomRefs=\\'CHITOBIOSE-atom4 CHITOBIOSE-atom20\\' order=\\'1\\'/><bond id=\\'CHITOBIOSE-bond21\\' atomRefs=\\'CHITOBIOSE-atom9 CHITOBIOSE-atom17\\' order=\\'1\\'/><bond id=\\'CHITOBIOSE-bond22\\' atomRefs=\\'CHITOBIOSE-atom15 CHITOBIOSE-atom26\\' order=\\'1\\'/><bond id=\\'CHITOBIOSE-bond23\\' atomRefs=\\'CHITOBIOSE-atom7 CHITOBIOSE-atom11\\' order=\\'1\\'/><bond id=\\'CHITOBIOSE-bond24\\' atomRefs=\\'CHITOBIOSE-atom9 CHITOBIOSE-atom15\\' order=\\'1\\'/><bond id=\\'CHITOBIOSE-bond25\\' atomRefs=\\'CHITOBIOSE-atom18 CHITOBIOSE-atom6\\' order=\\'1\\'/><bond id=\\'CHITOBIOSE-bond26\\' atomRefs=\\'CHITOBIOSE-atom6 CHITOBIOSE-atom22\\' order=\\'2\\'/><bond id=\\'CHITOBIOSE-bond27\\' atomRefs=\\'CHITOBIOSE-atom6 CHITOBIOSE-atom2\\' order=\\'1\\'/><bond id=\\'CHITOBIOSE-bond28\\' atomRefs=\\'CHITOBIOSE-atom17 CHITOBIOSE-atom5\\' order=\\'1\\'/><bond id=\\'CHITOBIOSE-bond29\\' atomRefs=\\'CHITOBIOSE-atom5 CHITOBIOSE-atom21\\' order=\\'2\\'/><bond id=\\'CHITOBIOSE-bond30\\' atomRefs=\\'CHITOBIOSE-atom5 CHITOBIOSE-atom1\\' order=\\'1\\'/></bondArray>\\n<formula concise=\\'C 16 H 28 N 2 O 11\\'/><float title=\\'molecularWeight\\' units=\\'g/mol\\'>424.404</float>\\n<string title=\\'smiles\\'>CC(=O)N[C@H]1(C(O)O[C@H](CO)[C@H]([C@H](O)1)O[C@@H]2(O[C@@H]([C@@H](O)[C@H](O)[C@@H](NC(C)=O)2)CO))</string>\\n</molecule>\\n</cml>\\n<appears-in-right-side-of><Reaction resource=\\'getxml?META:TRANS-RXN-513\\' orgid=\\'META\\' frameid=\\'TRANS-RXN-513\\'/><Reaction resource=\\'getxml?META:RXN-18083\\' orgid=\\'META\\' frameid=\\'RXN-18083\\'/><Reaction resource=\\'getxml?META:RXN-12309\\' orgid=\\'META\\' frameid=\\'RXN-12309\\'/><Reaction resource=\\'getxml?META:RXN-18084\\' orgid=\\'META\\' frameid=\\'RXN-18084\\'/><Reaction resource=\\'getxml?META:TRANS-RXN0-445\\' orgid=\\'META\\' frameid=\\'TRANS-RXN0-445\\'/><Reaction resource=\\'getxml?META:RXN-12623\\' orgid=\\'META\\' frameid=\\'RXN-12623\\'/><Reaction resource=\\'getxml?META:RXN-16018\\' orgid=\\'META\\' frameid=\\'RXN-16018\\'/><Reaction resource=\\'getxml?META:RXN-12626\\' orgid=\\'META\\' frameid=\\'RXN-12626\\'/></appears-in-right-side-of>\\n<inchi datatype=\\'string\\'>InChI=1S/C16H28N2O11/c1-5(21)17-9-13(25)14(8(4-20)27-15(9)26)29-16-10(18-6(2)22)12(24)11(23)7(3-19)28-16/h7-16,19-20,23-26H,3-4H2,1-2H3,(H,17,21)(H,18,22)/t7-,8-,9-,10-,11-,12-,13-,14-,15?,16+/m1/s1</inchi>\\n<synonym datatype=\\'string\\'>diacetylchitobiose</synonym>\\n<synonym datatype=\\'string\\'>&lt;i&gt;N&lt;/i&gt;-[2-[5-acetylamino-4,6-dihydroxy-2-(hydroxymethyl)tetrahydropyran-3-yl]oxy-4,5-dihyrdoxy-6-(hydroxymethyl)tetrahydropyran-3-yl]acetamide</synonym>\\n<synonym datatype=\\'string\\'>CBS</synonym>\\n<synonym datatype=\\'string\\'>chitobiose</synonym>\\n<synonym datatype=\\'string\\'>2-(acetylamino)-4-O-[2-(acetylamino)-2-deoxy-&amp;beta;-D-glucopyranosyl]-2-deoxy-&amp;beta;-D-glucopyranose</synonym>\\n<molecular-weight datatype=\\'float\\' units=\\'Daltons\\'>424.404</molecular-weight>\\n<monoisotopic-mw datatype=\\'float\\' units=\\'Daltons\\'>424.1693</monoisotopic-mw>\\n<dblink><dblink-db>SEED</dblink-db>\\n<dblink-oid>cpd01157</dblink-oid>\\n<dblink-relationship>unification</dblink-relationship>\\n<dblink-URL>http://modelseed.org/biochem/compounds/cpd01157</dblink-URL>\\n</dblink>\\n<dblink><dblink-db>METANETX</dblink-db>\\n<dblink-oid>MNXM1680</dblink-oid>\\n<dblink-relationship>unification</dblink-relationship>\\n<dblink-URL>https://www.metanetx.org/chem_info/MNXM1680</dblink-URL>\\n</dblink>\\n<dblink><dblink-db>HMDB</dblink-db>\\n<dblink-oid>HMDB03556</dblink-oid>\\n<dblink-relationship>unification</dblink-relationship>\\n<dblink-URL>http://www.hmdb.ca/metabolites/HMDB03556</dblink-URL>\\n</dblink>\\n<dblink><dblink-db>KEGG-GLYCAN</dblink-db>\\n<dblink-oid>G10336</dblink-oid>\\n<dblink-relationship>unification</dblink-relationship>\\n<dblink-URL>http://www.genome.jp/dbget-bin/www_bget?gl:G10336</dblink-URL>\\n</dblink>\\n<dblink><dblink-db>CHEMSPIDER</dblink-db>\\n<dblink-oid>388637</dblink-oid>\\n<dblink-relationship>unification</dblink-relationship>\\n<dblink-URL>http://www.chemspider.com/388637</dblink-URL>\\n</dblink>\\n<dblink><dblink-db>LIGAND-CPD</dblink-db>\\n<dblink-oid>C01674</dblink-oid>\\n<dblink-relationship>unification</dblink-relationship>\\n<dblink-URL>http://www.genome.ad.jp/dbget-bin/www_bget?C01674</dblink-URL>\\n</dblink>\\n<dblink><dblink-db>CHEBI</dblink-db>\\n<dblink-oid>28681</dblink-oid>\\n<dblink-relationship>unification</dblink-relationship>\\n<dblink-URL>http://www.ebi.ac.uk/chebi/searchId.do?chebiId=CHEBI:28681</dblink-URL>\\n</dblink>\\n<dblink><dblink-db>PUBCHEM</dblink-db>\\n<dblink-oid>439544</dblink-oid>\\n<dblink-relationship>unification</dblink-relationship>\\n<dblink-URL>http://pubchem.ncbi.nlm.nih.gov/summary/summary.cgi?cid=439544</dblink-URL>\\n</dblink>\\n<dblink><dblink-db>CAS</dblink-db>\\n<dblink-oid>577-76-4</dblink-oid>\\n<dblink-relationship>unification</dblink-relationship>\\n<dblink-URL>http://www.commonchemistry.org/ChemicalDetail.aspx?ref=577-76-4</dblink-URL>\\n</dblink>\\n<inchi-key datatype=\\'string\\'>InChIKey=CDOJPCSDOXYJJF-CBTAGEKQSA-N</inchi-key>\\n<common-name datatype=\\'string\\'>&lt;i&gt;N&lt;/i&gt;,&lt;i&gt;N\\'&lt;/i&gt;-diacetylchitobiose</common-name>\\n<gibbs-0 datatype=\\'float\\' units=\\'kcal/mol\\'>-77.86863<evidence><Evidence-Code ID=\\'META:EV-COMP\\' orgid=\\'META\\' frameid=\\'EV-COMP\\' detail=\\'full\\' class=\\'true\\'><common-name datatype=\\'string\\'>Inferred by computational analysis</common-name>\\n<comment datatype=\\'string\\'>Inferred from computation.  The evidence for an assertion comes from a\\ncomputational analysis.  The assertion itself might have been made\\nby a person or by a computer, that is, EV-COMP does not specify whether\\nmanual interpretation of the computation occurred.\\n&lt;p&gt;\\n</comment>\\n</Evidence-Code>\\n<Publication ID=\\'META:PUB-LATENDRESSE2013\\' orgid=\\'META\\' frameid=\\'PUB-LATENDRESSE2013\\' detail=\\'full\\'><year datatype=\\'integer\\'>2013</year>\\n<url datatype=\\'string\\'>http://www.biocyc.org/PGDBConceptsGuide.shtml#gibbs</url>\\n<author datatype=\\'string\\'>Latendresse M.</author>\\n<title datatype=\\'string\\'>Computing Gibbs Free Energy of Compounds and Reactions in MetaCyc.</title>\\n</Publication>\\n</evidence>\\n</gibbs-0>\\n<credits><revised><date datatype=\\'date\\'>2013-12-06</date>\\n<Person ID=\\'META:caspi\\' orgid=\\'META\\' frameid=\\'caspi\\' detail=\\'full\\'><common-name datatype=\\'string\\'>Ron Caspi</common-name>\\n<email datatype=\\'string\\'>caspi@ai.sri.com</email>\\n<affiliations><Organization ID=\\'META:SRI\\' orgid=\\'META\\' frameid=\\'SRI\\' detail=\\'full\\'><url datatype=\\'string\\'>http://bioinformatics.ai.sri.com/</url>\\n<common-name datatype=\\'string\\'>SRI International</common-name>\\n<email datatype=\\'string\\'>ptools-support@ai.sri.com</email>\\n<abbrev-name datatype=\\'string\\'>SRI International</abbrev-name>\\n</Organization>\\n</affiliations>\\n<comment datatype=\\'string\\'>Ron Caspi received his PhD in Marine Microbiology in 1996 from the Scripps Institution of Oceanography in La Jolla, CA, under the guidance of Dr. Bradley Tebo and Dr. Margo Haygood. He completed his post-graduate education in 1999 with Dr. Donald Helinski at the Center for Molecular Genetics at UC San Diego. \\n&lt;p&gt;\\nAfter three years with Pangene Corporation, where he managed the automation and bioinformatics department, Ron joined SRI International in 2004, and has been the head curator of the MetaCyc database ever since.\\n</comment>\\n</Person>\\n<Organization resource=\\'#META:SRI\\' orgid=\\'META\\' frameid=\\'SRI\\'/></revised>\\n</credits>\\n<comment datatype=\\'string\\'>There is some ambiguity in the literature as to the identity of &lt;a href=&quot;/META/NEW-IMAGE?type=COMPOUND&amp;object=CPD-13545&quot; title=&quot;There is some ambiguity in the literature as to the identity of chitobiose regarding acetylation. Although &lt;a href=\\'\\'/META/NEW-IMAGE?type=COMPOUND&amp;object=CHITIN\\'\\'&gt;chitin&lt;/a&gt; consists of &amp;beta;1&amp;rarr;4 linked &lt;i&gt;N&lt;/i&gt;-acetylglucosamine residues, the name chitobiose was given to the parent non-acetylated disaccharide by analogy with &lt;a href=\\'\\'/META/NEW-IMAGE?type=COMPOUND&amp;object=CPD-15975\\'\\'&gt;cellobiose&lt;/a&gt;, the repeating disaccharide from &lt;a href=\\'\\'/META/NEW-IMAGE?type=COMPOUND&amp;object=CELLULOSE\\'\\'&gt;cellulose&lt;/a&gt;. Thus the name chitobiose is used here for the disaccharide that contains glucosamine residues and not  the acetylated sugars.&amp;#10;&amp;#10;The acetylated forms are referred to as &lt;a href=\\'\\'/META/NEW-IMAGE?type=COMPOUND&amp;object=CPD-12274\\'\\'&gt;&lt;i&gt;N&lt;/i&gt;-acetyl-&amp;beta;-D-glucosaminyl-(1&amp;rarr;4)-D-glucosamine&lt;/a&gt; and &lt;a href=\\'\\'/META/NEW-IMAGE?type=COMPOUND&amp;object=CHITOBIOSE\\'\\'&gt;&lt;i&gt;N&lt;/i&gt;,&lt;i&gt;N\\'&lt;/i&gt;-diacetylchitobiose&lt;/a&gt;.&quot;&gt;chitobiose&lt;/a&gt; regarding acetylation. Although &lt;a href=&quot;/META/NEW-IMAGE?type=COMPOUND&amp;object=CHITIN&quot; title=&quot;&lt;a href=\\'\\'/META/NEW-IMAGE?type=COMPOUND&amp;object=CHITIN\\'\\'&gt;Chitin&lt;/a&gt; is a polymer of repeating units of &amp;beta;-(1,4)-linked &lt;a href=\\'\\'/compound?orgid=META&amp;id=N-ACETYL-BETA-D-GLUCOSAMINE\\'\\'&gt;&lt;i&gt;N&lt;/i&gt;-acetyl-&amp;beta;-D-glucosamine&lt;/a&gt; (GlcNAc)&lt;sub&gt;n&lt;/sub&gt;. It may be the second most abundant biopolymer in the world, after cellulose. It is the main component of the cell walls of fungi, the exoskeletons of arthropods such as crustaceans and the insects, the radula of mollusks, and the beaks of the cephalopods.&amp;#10;&amp;#10;Chitin polymers have a high degree of polymerization and are insoluble in water [&lt;a href=\\'\\'http://www.ncbi.nlm.nih.gov/pubmed/20559485\\'\\'&gt;Aam10&lt;/a&gt;].&quot;&gt;chitin&lt;/a&gt; consists of &amp;beta;(1&amp;rarr;4) linked &lt;i&gt;N&lt;/i&gt;-acetylglucosamine residues, the name chitobiose was given to the parent non-acetylated disaccharide by analogy with &lt;a href=&quot;/META/NEW-IMAGE?type=COMPOUND&amp;object=CPD-15975&quot;&gt;cellobiose&lt;/a&gt;, the repeating disaccharide from &lt;a href=&quot;/META/NEW-IMAGE?type=COMPOUND&amp;object=CELLULOSE&quot; title=&quot;Cellulose is the most common organic compound on Earth. It is a polysaccharide consisting of a linear chain of several hundred to over ten thousand &amp;beta;(1&amp;rarr;4) linked D-glucose units, and is the structural component of the primary cell wall of green plants, many forms of algae and the oomycetes.&amp;#10;&amp;#10;Cellulose is a straight chain polymer. Unlike &lt;a href=\\'\\'/META/NEW-IMAGE?type=COMPOUND&amp;object=Starch\\'\\'&gt;starch&lt;/a&gt; or &lt;a href=\\'\\'/META/NEW-IMAGE?type=COMPOUND&amp;object=Glycogens\\'\\'&gt;glycogen&lt;/a&gt;, there is no coiling or branching, and the molecule adopts an extended and stiff rod-like conformation. The multiple hydroxyl groups on the glucose moieties from one chain form hydrogen bonds with oxygen atoms on neighbor chains, holding the chains firmly together side-by-side and forming microfibrils with high tensile strength. &amp;#10;&amp;#10;Several different crystalline structures of cellulose are known, corresponding to the location of hydrogen bonds between and within strands. Known crystalline forms are named cellulose I, cellulose II, cellulose III and cellulose IV.  Cellulose I is further divided into I&amp;alpha; and I&amp;beta;, with the former formed by bacteria and algae and the latter by higher plants. &amp;#10;Crystalline cellulose is not soluble. It is converted to a soluble, amorphus structure only at a temperature of 320 &amp;deg;C.&amp;#10;&amp;#10;Molecules with very small chain length, known as &lt;a href=\\'\\'/META/NEW-IMAGE?type=COMPOUND&amp;object=Cellodextrins\\'\\'&gt;cellodextrins&lt;/a&gt;, are typically soluble in water and organic solvents.&quot;&gt;cellulose&lt;/a&gt;. Thus the name chitobiose is used for the disaccharide that contains non-acetylated glucosamine residues.\\n&lt;p&gt;\\nThe acetylated forms are referred to as &lt;a href=&quot;/META/NEW-IMAGE?type=COMPOUND&amp;object=CPD-12274&quot; title=&quot;There is some ambiguity in the literature as to the identity of &lt;a href=\\'\\'/META/NEW-IMAGE?type=COMPOUND&amp;object=CPD-13545\\'\\'&gt;chitobiose&lt;/a&gt; regarding acetylation. Although &lt;a href=\\'\\'/META/NEW-IMAGE?type=COMPOUND&amp;object=CHITIN\\'\\'&gt;chitin&lt;/a&gt; consists of &amp;beta;1&amp;rarr;4 linked &lt;i&gt;N&lt;/i&gt;-acetylglucosamine residues, the name chitobiose was given to the parent non-acetylated disaccharide by analogy with &lt;a href=\\'\\'/META/NEW-IMAGE?type=COMPOUND&amp;object=CPD-15975\\'\\'&gt;cellobiose&lt;/a&gt;, the repeating disaccharide from &lt;a href=\\'\\'/META/NEW-IMAGE?type=COMPOUND&amp;object=CELLULOSE\\'\\'&gt;cellulose&lt;/a&gt;. Thus the name chitobiose is used here for the disaccharide that contains glucosamine residues and not  the acetylated sugars.&amp;#10;&amp;#10;The acetylated forms are often referred to as &lt;a href=\\'\\'/META/NEW-IMAGE?type=COMPOUND&amp;object=CPD-12274\\'\\'&gt;&lt;i&gt;N&lt;/i&gt;-monoacetylchitobiose&lt;/a&gt; and &lt;a href=\\'\\'/META/NEW-IMAGE?type=COMPOUND&amp;object=CHITOBIOSE\\'\\'&gt;&lt;i&gt;N&lt;/i&gt;,&lt;i&gt;N\\'&lt;/i&gt;-diacetylchitobiose&lt;/a&gt;.&quot;&gt;&lt;i&gt;N&lt;/i&gt;-acetyl-&amp;beta;-D-glucosaminyl-(1&amp;rarr;4)-D-glucosamine&lt;/a&gt; and &lt;a href=&quot;/META/NEW-IMAGE?type=COMPOUND&amp;object=CHITOBIOSE&quot; title=&quot;There is some ambiguity in the literature as to the identity of &lt;a href=\\'\\'/META/NEW-IMAGE?type=COMPOUND&amp;object=CPD-13545\\'\\'&gt;chitobiose&lt;/a&gt; regarding acetylation. Although &lt;a href=\\'\\'/META/NEW-IMAGE?type=COMPOUND&amp;object=CHITIN\\'\\'&gt;chitin&lt;/a&gt; consists of &amp;beta;(1&amp;rarr;4) linked &lt;i&gt;N&lt;/i&gt;-acetylglucosamine residues, the name chitobiose was given to the parent non-acetylated disaccharide by analogy with &lt;a href=\\'\\'/META/NEW-IMAGE?type=COMPOUND&amp;object=CPD-15975\\'\\'&gt;cellobiose&lt;/a&gt;, the repeating disaccharide from &lt;a href=\\'\\'/META/NEW-IMAGE?type=COMPOUND&amp;object=CELLULOSE\\'\\'&gt;cellulose&lt;/a&gt;. Thus the name chitobiose is used for the disaccharide that contains non-acetylated glucosamine residues.&amp;#10;&amp;#10;The acetylated forms are referred to as &lt;a href=\\'\\'/META/NEW-IMAGE?type=COMPOUND&amp;object=CPD-12274\\'\\'&gt;&lt;i&gt;N&lt;/i&gt;-acetyl-&amp;beta;-D-glucosaminyl-(1&amp;rarr;4)-D-glucosamine&lt;/a&gt; and &lt;a href=\\'\\'/META/NEW-IMAGE?type=COMPOUND&amp;object=CHITOBIOSE\\'\\'&gt;&lt;i&gt;N&lt;/i&gt;,&lt;i&gt;N\\'&lt;/i&gt;-diacetylchitobiose&lt;/a&gt; [&lt;a href=\\'\\'http://www.ncbi.nlm.nih.gov/pubmed/11544216\\'\\'&gt;Tilly01&lt;/a&gt;]&quot;&gt;&lt;i&gt;N&lt;/i&gt;,&lt;i&gt;N\\'&lt;/i&gt;-diacetylchitobiose&lt;/a&gt; [&lt;a href=&quot;http://www.ncbi.nlm.nih.gov/pubmed/11544216&quot;&gt;Tilly01&lt;/a&gt;]</comment>\\n<appears-in-left-side-of><Reaction resource=\\'getxml?META:TRANS-RXN-513\\' orgid=\\'META\\' frameid=\\'TRANS-RXN-513\\'/><Reaction resource=\\'getxml?META:RXN-12543\\' orgid=\\'META\\' frameid=\\'RXN-12543\\'/><Reaction resource=\\'getxml?META:TRANS-RXN0-445\\' orgid=\\'META\\' frameid=\\'TRANS-RXN0-445\\'/><Reaction resource=\\'getxml?META:RXN-11313\\' orgid=\\'META\\' frameid=\\'RXN-11313\\'/><Reaction resource=\\'getxml?META:TRANS-RXN-155B\\' orgid=\\'META\\' frameid=\\'TRANS-RXN-155B\\'/><Reaction resource=\\'getxml?META:RXN-12625\\' orgid=\\'META\\' frameid=\\'RXN-12625\\'/><Reaction resource=\\'getxml?META:RXN-12627\\' orgid=\\'META\\' frameid=\\'RXN-12627\\'/></appears-in-left-side-of>\\n</Compound>\\n</ptools-xml>\\n'"
      ]
     },
     "execution_count": 8,
     "metadata": {},
     "output_type": "execute_result"
    }
   ],
   "source": [
    "from modelseedpy_ext.biocyc.api import BiocycAPICached\n",
    "\n",
    "\"\"\"\n",
    "06/20/2023\n",
    "BiocycQuery.Pathways 4205\n",
    "BiocycQuery.Proteins 24391\n",
    "BiocycQuery.Reactions 20552\n",
    "BiocycQuery.Compounds 24705\n",
    "BiocycQuery.Genes 15514\n",
    "BiocycQuery.Organisms 9165\n",
    "\"\"\"\n",
    "    \n",
    "api = BiocycAPICached(cache='.', \n",
    "                      #email='fliu@deb.uminho.pt', password='B&5saj.fPx'\n",
    "                     )\n",
    "for q in [\n",
    "    #BiocycQuery.Pathways, BiocycQuery.Proteins, BiocycQuery.Reactions, BiocycQuery.Compounds,\n",
    "    #BiocycQuery.Genes, \n",
    "    #BiocycQuery.Organisms,\n",
    "    \n",
    "]:\n",
    "    res = api.query(q)\n",
    "    print(q, len(res))\n",
    "#api.fetch('PWY-7822')\n",
    "#res = api.fetch('RXN-15479')\n",
    "api.fetch('CHITOBIOSE')"
   ]
  },
  {
   "cell_type": "code",
   "execution_count": 60,
   "id": "14a81402-43b4-4f87-a444-cb808189c2ae",
   "metadata": {},
   "outputs": [
    {
     "data": {
      "text/plain": [
       "({'ID': 'META:CHITOBIOSE',\n",
       "  'orgid': 'META',\n",
       "  'frameid': 'CHITOBIOSE',\n",
       "  'detail': 'full',\n",
       "  'class': 'true'},\n",
       " {'parent': [({'resource': 'getxml?META:Chitodextrins',\n",
       "     'orgid': 'META',\n",
       "     'frameid': 'Chitodextrins',\n",
       "     'class': 'true'},\n",
       "    None),\n",
       "   ({'resource': 'getxml?META:Disaccharides',\n",
       "     'orgid': 'META',\n",
       "     'frameid': 'Disaccharides',\n",
       "     'class': 'true'},\n",
       "    None)],\n",
       "  'cml': None,\n",
       "  'appears-in-right-side-of': None,\n",
       "  'inchi': ({'datatype': 'string'},\n",
       "   'InChI=1S/C16H28N2O11/c1-5(21)17-9-13(25)14(8(4-20)27-15(9)26)29-16-10(18-6(2)22)12(24)11(23)7(3-19)28-16/h7-16,19-20,23-26H,3-4H2,1-2H3,(H,17,21)(H,18,22)/t7-,8-,9-,10-,11-,12-,13-,14-,15?,16+/m1/s1'),\n",
       "  'synonym': [({'datatype': 'string'}, 'diacetylchitobiose'),\n",
       "   ({'datatype': 'string'},\n",
       "    '<i>N</i>-[2-[5-acetylamino-4,6-dihydroxy-2-(hydroxymethyl)tetrahydropyran-3-yl]oxy-4,5-dihyrdoxy-6-(hydroxymethyl)tetrahydropyran-3-yl]acetamide'),\n",
       "   ({'datatype': 'string'}, 'CBS'),\n",
       "   ({'datatype': 'string'}, 'chitobiose'),\n",
       "   ({'datatype': 'string'},\n",
       "    '2-(acetylamino)-4-O-[2-(acetylamino)-2-deoxy-&beta;-D-glucopyranosyl]-2-deoxy-&beta;-D-glucopyranose')],\n",
       "  'molecular-weight': ({'datatype': 'float', 'units': 'Daltons'}, '424.404'),\n",
       "  'monoisotopic-mw': ({'datatype': 'float', 'units': 'Daltons'}, '424.1693'),\n",
       "  'dblink': [{'dblink-db': 'SEED',\n",
       "    'dblink-oid': 'cpd01157',\n",
       "    'dblink-relationship': 'unification',\n",
       "    'dblink-URL': 'http://modelseed.org/biochem/compounds/cpd01157'},\n",
       "   {'dblink-db': 'METANETX',\n",
       "    'dblink-oid': 'MNXM1680',\n",
       "    'dblink-relationship': 'unification',\n",
       "    'dblink-URL': 'https://www.metanetx.org/chem_info/MNXM1680'},\n",
       "   {'dblink-db': 'HMDB',\n",
       "    'dblink-oid': 'HMDB03556',\n",
       "    'dblink-relationship': 'unification',\n",
       "    'dblink-URL': 'http://www.hmdb.ca/metabolites/HMDB03556'},\n",
       "   {'dblink-db': 'KEGG-GLYCAN',\n",
       "    'dblink-oid': 'G10336',\n",
       "    'dblink-relationship': 'unification',\n",
       "    'dblink-URL': 'http://www.genome.jp/dbget-bin/www_bget?gl:G10336'},\n",
       "   {'dblink-db': 'CHEMSPIDER',\n",
       "    'dblink-oid': '388637',\n",
       "    'dblink-relationship': 'unification',\n",
       "    'dblink-URL': 'http://www.chemspider.com/388637'},\n",
       "   {'dblink-db': 'LIGAND-CPD',\n",
       "    'dblink-oid': 'C01674',\n",
       "    'dblink-relationship': 'unification',\n",
       "    'dblink-URL': 'http://www.genome.ad.jp/dbget-bin/www_bget?C01674'},\n",
       "   {'dblink-db': 'CHEBI',\n",
       "    'dblink-oid': '28681',\n",
       "    'dblink-relationship': 'unification',\n",
       "    'dblink-URL': 'http://www.ebi.ac.uk/chebi/searchId.do?chebiId=CHEBI:28681'},\n",
       "   {'dblink-db': 'PUBCHEM',\n",
       "    'dblink-oid': '439544',\n",
       "    'dblink-relationship': 'unification',\n",
       "    'dblink-URL': 'http://pubchem.ncbi.nlm.nih.gov/summary/summary.cgi?cid=439544'},\n",
       "   {'dblink-db': 'CAS',\n",
       "    'dblink-oid': '577-76-4',\n",
       "    'dblink-relationship': 'unification',\n",
       "    'dblink-URL': 'http://www.commonchemistry.org/ChemicalDetail.aspx?ref=577-76-4'}],\n",
       "  'inchi-key': None,\n",
       "  'common-name': ({'datatype': 'string'},\n",
       "   \"<i>N</i>,<i>N'</i>-diacetylchitobiose\"),\n",
       "  'gibbs-0': None,\n",
       "  'credits': None,\n",
       "  'comment': None,\n",
       "  'appears-in-left-side-of': None})"
      ]
     },
     "execution_count": 60,
     "metadata": {},
     "output_type": "execute_result"
    }
   ],
   "source": [
    "from modelseedpy_ext.biocyc.parser import BiocycParserPass, XmlParseMethod, BiocycParserSingle, BiocycParserDblink\n",
    "import lxml.etree as et\n",
    "\n",
    "class BiocycParseBase:\n",
    "\n",
    "    def __init__(self, end_tag):\n",
    "        self.end_tag = end_tag\n",
    "        self.tag_capture = {}\n",
    "\n",
    "    def _parse(self, elem, parser):\n",
    "        body = dict(elem.attrib)\n",
    "        res = {}\n",
    "        for action, elem in parser:\n",
    "            t = (action, elem.tag)\n",
    "            # print('BiocycParseEnzymaticReaction', t)\n",
    "            if t in self.tag_capture:\n",
    "                p, method = self.tag_capture[t]\n",
    "                d = p.parse(elem, parser)\n",
    "                attr = None\n",
    "                if attr == None:\n",
    "                    attr = t[1]\n",
    "                if method == XmlParseMethod.UNIQUE:\n",
    "                    if attr in res:\n",
    "                        raise Exception(f'non unique capture {attr}')\n",
    "                    else:\n",
    "                        res[attr] = d\n",
    "                elif method == XmlParseMethod.UNIQUE_E:\n",
    "                    if attr in res:\n",
    "                        raise Exception(f'non unique capture {attr}')\n",
    "                    else:\n",
    "                        res[attr] = (dict(elem.attrib), elem.text)\n",
    "                elif method == XmlParseMethod.LIST:\n",
    "                    if attr not in res:\n",
    "                        res[attr] = []\n",
    "                    res[attr].append(d)\n",
    "                else:\n",
    "                    raise Exception(f'method not implemented {method}')\n",
    "            elif action == 'end' and elem.tag == self.end_tag:\n",
    "                return body, res\n",
    "            else:\n",
    "                raise Exception(f'bad traversal expected: {self.tag_capture.keys()}, found {t}')\n",
    "                \n",
    "class BiocycParseTag:\n",
    "    \n",
    "    def __init__(self, tag):\n",
    "        self.tag = tag\n",
    "    \n",
    "    def parse(self, elem, parser):\n",
    "        attr = dict(elem.attrib)\n",
    "        text = elem.text\n",
    "        for action, elem in parser:\n",
    "            if action == 'end' and elem.tag == self.tag:\n",
    "                return attr, text\n",
    "            else:\n",
    "                raise Exception('!!!')\n",
    "                \n",
    "class BiocycXmlParser(BiocycParseBase):\n",
    "    \n",
    "    def __init__(self, tag):\n",
    "        super().__init__(tag)\n",
    "        self.tag = tag\n",
    "    \n",
    "    def parse(self, h):\n",
    "        parser = et.iterparse(h, events=(\"end\", \"start\"))\n",
    "        for action, elem in parser:\n",
    "            tag = elem.tag\n",
    "            if action == \"start\" and elem.tag == self.tag:\n",
    "                return super()._parse(elem, parser)\n",
    "            \n",
    "class BiocycCompoundParser(BiocycXmlParser):\n",
    "    \n",
    "    def __init__(self):\n",
    "        super().__init__('Compound')\n",
    "        self.tag_capture = {\n",
    "            ('start', 'parent'): (BiocycParserSingle('Compound', 'parent'), XmlParseMethod.LIST),\n",
    "            ('start', 'cml'): (BiocycParserPass('cml'), XmlParseMethod.UNIQUE),\n",
    "            ('start', 'appears-in-right-side-of'): (BiocycParserPass('appears-in-right-side-of'), XmlParseMethod.UNIQUE),\n",
    "            ('start', 'inchi'): (BiocycParseTag('inchi'), XmlParseMethod.UNIQUE),\n",
    "            ('start', 'synonym'): (BiocycParseTag('synonym'), XmlParseMethod.LIST),\n",
    "            ('start', 'molecular-weight'): (BiocycParseTag('molecular-weight'), XmlParseMethod.UNIQUE),\n",
    "            ('start', 'monoisotopic-mw'): (BiocycParseTag('monoisotopic-mw'), XmlParseMethod.UNIQUE),\n",
    "            ('start', 'dblink'): (BiocycParserDblink(), XmlParseMethod.LIST),\n",
    "            ('start', 'inchi-key'): (BiocycParserPass('inchi-key'), XmlParseMethod.UNIQUE),\n",
    "            ('start', 'common-name'): (BiocycParseTag('common-name'), XmlParseMethod.UNIQUE),\n",
    "            ('start', 'gibbs-0'): (BiocycParserPass('gibbs-0'), XmlParseMethod.UNIQUE),\n",
    "            ('start', 'credits'): (BiocycParserPass('credits'), XmlParseMethod.UNIQUE),\n",
    "            ('start', 'comment'): (BiocycParserPass('comment'), XmlParseMethod.UNIQUE),\n",
    "            ('start', 'appears-in-left-side-of'): (BiocycParserPass('appears-in-left-side-of'), XmlParseMethod.UNIQUE),\n",
    "        }\n",
    "        \n",
    "from io import BytesIO\n",
    "o = BiocycCompoundParser().parse(BytesIO(api.fetch('CHITOBIOSE')))\n",
    "o"
   ]
  },
  {
   "cell_type": "code",
   "execution_count": null,
   "id": "2f5a0364-6ae9-4849-bbec-4bc1d2498104",
   "metadata": {},
   "outputs": [],
   "source": []
  },
  {
   "cell_type": "code",
   "execution_count": 113,
   "id": "6ebe771e-4ab6-49cf-8283-21215540722a",
   "metadata": {},
   "outputs": [],
   "source": [
    "res = api.query(BiocycQuery.Pathways)"
   ]
  },
  {
   "cell_type": "code",
   "execution_count": null,
   "id": "3b4c1702-7f09-4c51-ac93-532ddc278629",
   "metadata": {},
   "outputs": [],
   "source": [
    "s = requests.Session() # create session\n",
    "    # Post login credentials to session:\n",
    "    s.post('https://websvc.biocyc.org/credentials/login/', data={'email':'[email]', 'password':'[password]'})\n",
    "    # Issue web service request:\n",
    "    r = s.get('https://websvc.biocyc.org/[request]')"
   ]
  },
  {
   "cell_type": "code",
   "execution_count": 119,
   "id": "8f9cc10e-ceeb-4fd2-bb3c-a45a30d97303",
   "metadata": {},
   "outputs": [
    {
     "ename": "TypeError",
     "evalue": "cache_fetch() missing 1 required positional argument: 'object_type'",
     "output_type": "error",
     "traceback": [
      "\u001b[0;31m---------------------------------------------------------------------------\u001b[0m",
      "\u001b[0;31mTypeError\u001b[0m                                 Traceback (most recent call last)",
      "\u001b[0;32m/tmp/ipykernel_3797400/847398955.py\u001b[0m in \u001b[0;36m<module>\u001b[0;34m\u001b[0m\n\u001b[0;32m----> 1\u001b[0;31m \u001b[0mres\u001b[0m \u001b[0;34m=\u001b[0m \u001b[0mapi\u001b[0m\u001b[0;34m.\u001b[0m\u001b[0mfetch\u001b[0m\u001b[0;34m(\u001b[0m\u001b[0;34m'RXN-15479'\u001b[0m\u001b[0;34m)\u001b[0m\u001b[0;34m\u001b[0m\u001b[0;34m\u001b[0m\u001b[0m\n\u001b[0m",
      "\u001b[0;32m/tmp/ipykernel_3797400/4048397780.py\u001b[0m in \u001b[0;36mfetch\u001b[0;34m(self, frame_id, detail)\u001b[0m\n\u001b[1;32m     47\u001b[0m \u001b[0;34m\u001b[0m\u001b[0m\n\u001b[1;32m     48\u001b[0m     \u001b[0;32mdef\u001b[0m \u001b[0mfetch\u001b[0m\u001b[0;34m(\u001b[0m\u001b[0mself\u001b[0m\u001b[0;34m,\u001b[0m \u001b[0mframe_id\u001b[0m\u001b[0;34m,\u001b[0m \u001b[0mdetail\u001b[0m\u001b[0;34m=\u001b[0m\u001b[0;34m'high'\u001b[0m\u001b[0;34m)\u001b[0m\u001b[0;34m:\u001b[0m\u001b[0;34m\u001b[0m\u001b[0;34m\u001b[0m\u001b[0m\n\u001b[0;32m---> 49\u001b[0;31m         \u001b[0mdata\u001b[0m \u001b[0;34m=\u001b[0m \u001b[0mself\u001b[0m\u001b[0;34m.\u001b[0m\u001b[0mcache_fetch\u001b[0m\u001b[0;34m(\u001b[0m\u001b[0mframe_id\u001b[0m\u001b[0;34m)\u001b[0m\u001b[0;34m\u001b[0m\u001b[0;34m\u001b[0m\u001b[0m\n\u001b[0m\u001b[1;32m     50\u001b[0m         \u001b[0;32mif\u001b[0m \u001b[0mdata\u001b[0m\u001b[0;34m:\u001b[0m\u001b[0;34m\u001b[0m\u001b[0;34m\u001b[0m\u001b[0m\n\u001b[1;32m     51\u001b[0m             \u001b[0;32mreturn\u001b[0m \u001b[0mdata\u001b[0m\u001b[0;34m\u001b[0m\u001b[0;34m\u001b[0m\u001b[0m\n",
      "\u001b[0;31mTypeError\u001b[0m: cache_fetch() missing 1 required positional argument: 'object_type'"
     ]
    }
   ],
   "source": [
    "res = api.fetch('RXN-15479')"
   ]
  },
  {
   "cell_type": "code",
   "execution_count": 61,
   "id": "5874ef06-7e6c-4085-90ca-cecba409c0af",
   "metadata": {},
   "outputs": [
    {
     "data": {
      "text/plain": [
       "'Reaction'"
      ]
     },
     "execution_count": 61,
     "metadata": {},
     "output_type": "execute_result"
    }
   ],
   "source": [
    "def _detect_class(resp):\n",
    "    \n",
    "    parser = ET.iterparse(BytesIO(resp.content), events=(\"end\", \"start\"))\n",
    "    for action, elem in parser:\n",
    "        if action == \"end\" and elem.tag == \"metadata\":\n",
    "            for action, elem in parser:\n",
    "                if action == 'start':\n",
    "                    return elem.tag\n",
    "\n",
    "    raise Exception(\"unable to detect class\")\n",
    "_detect_class(res)"
   ]
  },
  {
   "cell_type": "code",
   "execution_count": 136,
   "id": "7ea41550-3af4-4012-972b-2104cedc965b",
   "metadata": {
    "tags": []
   },
   "outputs": [],
   "source": [
    "#print(res.content.decode('utf-8'))"
   ]
  },
  {
   "cell_type": "code",
   "execution_count": 49,
   "id": "2dabacac-d134-44fb-94db-079eb7e5aa55",
   "metadata": {},
   "outputs": [
    {
     "data": {
      "text/plain": [
       "'Pathway'"
      ]
     },
     "execution_count": 49,
     "metadata": {},
     "output_type": "execute_result"
    }
   ],
   "source": [
    "from enum import Enum\n",
    "class BiocycQuery(Enum):\n",
    "    Pathways = 'Pathway'\n",
    "    Reactions = 'Reaction'\n",
    "    Compounds = 'Compound'\n",
    "    Proteins = 'Protein'\n",
    "    Genes = 'Gene'\n",
    "    Organisms = 'Organism'\n",
    "BiocycQuery.Pathways.value"
   ]
  },
  {
   "cell_type": "code",
   "execution_count": 25,
   "id": "71ce5a26-99f9-47cc-b60a-eb53705bfdd8",
   "metadata": {
    "tags": []
   },
   "outputs": [
    {
     "data": {
      "text/plain": [
       "4205"
      ]
     },
     "execution_count": 25,
     "metadata": {},
     "output_type": "execute_result"
    }
   ],
   "source": [
    "from io import BytesIO\n",
    "import lxml.etree as ET\n",
    "\n",
    "def _to_list(resp):\n",
    "    res = {}\n",
    "    \n",
    "    parser = ET.iterparse(BytesIO(resp.content), events=(\"end\", \"start\"))\n",
    "    for action, elem in parser:\n",
    "        if action == \"end\" and elem.tag == \"metadata\":\n",
    "            for action, elem in parser:\n",
    "                if action == 'start':\n",
    "                    if elem.tag not in res:\n",
    "                        res[elem.tag] = []\n",
    "                    res[elem.tag].append([dict(elem.attrib), elem.text])\n",
    "                elif action == \"end\" and elem.tag == \"ptools-xml\":\n",
    "                    return res\n",
    "    \n",
    "    raise Exception(\"unexpected ending\")\n",
    "\n",
    "def _detect_class(xml_str):\n",
    "    clazz = None\n",
    "    return clazz\n",
    "\n",
    "l = _to_list(res)\n",
    "len(l['Pathway'])"
   ]
  },
  {
   "cell_type": "code",
   "execution_count": null,
   "id": "c6837cd5-1e02-4a61-b6f8-988eced3663f",
   "metadata": {
    "tags": []
   },
   "outputs": [],
   "source": []
  },
  {
   "cell_type": "markdown",
   "id": "1d63835d-0efb-4ab2-aef3-358c52725897",
   "metadata": {},
   "source": [
    "### NCBI Eutils"
   ]
  },
  {
   "cell_type": "code",
   "execution_count": null,
   "id": "eb0dc06c-e5f2-4a54-ad49-b0ecda218a6f",
   "metadata": {},
   "outputs": [],
   "source": [
    "https://websvc.biocyc.org/xmlquery?query=[QUERY]&detail=[none|low|full]"
   ]
  }
 ],
 "metadata": {
  "kernelspec": {
   "display_name": "Python 3 (ipykernel)",
   "language": "python",
   "name": "python3"
  },
  "language_info": {
   "codemirror_mode": {
    "name": "ipython",
    "version": 3
   },
   "file_extension": ".py",
   "mimetype": "text/x-python",
   "name": "python",
   "nbconvert_exporter": "python",
   "pygments_lexer": "ipython3",
   "version": "3.8.10"
  }
 },
 "nbformat": 4,
 "nbformat_minor": 5
}
