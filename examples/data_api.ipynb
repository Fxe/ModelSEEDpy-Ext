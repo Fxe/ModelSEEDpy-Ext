{
 "cells": [
  {
   "cell_type": "markdown",
   "id": "540364d2-a6eb-41f0-8031-37d0319b127c",
   "metadata": {},
   "source": [
    "### KEGG"
   ]
  },
  {
   "cell_type": "code",
   "execution_count": 137,
   "id": "4617474b-52cf-4aa5-b4b4-6baa2cd9820e",
   "metadata": {},
   "outputs": [],
   "source": []
  },
  {
   "cell_type": "markdown",
   "id": "768f4d56-1259-4db9-a9aa-1a61cb68a45e",
   "metadata": {},
   "source": [
    "### BioCyc"
   ]
  },
  {
   "cell_type": "code",
   "execution_count": 207,
   "id": "51ef2810-42e4-4e4f-a2ad-630c25587709",
   "metadata": {
    "tags": []
   },
   "outputs": [
    {
     "name": "stdout",
     "output_type": "stream",
     "text": [
      "BiocycQuery.RNAs 267\n"
     ]
    }
   ],
   "source": [
    "#from modelseedpy_ext.biocyc.api import BiocycAPICached, BiocycAPI\n",
    "%run /home/fliu/workspace/python3/ModelSEEDpy-Ext/modelseedpy_ext/biocyc/api.py\n",
    "\"\"\"\n",
    "06/20/2023\n",
    "BiocycQuery.Pathways 4205\n",
    "BiocycQuery.Proteins 24391\n",
    "BiocycQuery.Reactions 20552\n",
    "BiocycQuery.Compounds 24705\n",
    "BiocycQuery.Genes 15514\n",
    "BiocycQuery.Organisms 9165\n",
    "\"\"\"\n",
    "    \n",
    "api = BiocycAPICached(cache='/var/data/biodb/biocyc/27.0', \n",
    "                      #email='fliu@deb.uminho.pt', password='B&5saj.fPx'\n",
    "                     )\n",
    "for q in [\n",
    "    #BiocycQuery.Pathways, BiocycQuery.Proteins, BiocycQuery.Reactions, BiocycQuery.Compounds,\n",
    "    #BiocycQuery.Genes, \n",
    "    #BiocycQuery.Organisms,\n",
    "    BiocycQuery.RNAs\n",
    "    \n",
    "]:\n",
    "    res = api.query(q)\n",
    "    print(q, len(res))\n",
    "#api.fetch('PWY-7822')\n",
    "res = api.cache_fetch('WATER')\n",
    "#api.fetch('CHITOBIOSE')\n",
    "res"
   ]
  },
  {
   "cell_type": "code",
   "execution_count": 5,
   "id": "439cb31d-00d7-4a4e-9de5-d53ba10102f2",
   "metadata": {},
   "outputs": [],
   "source": [
    "res = api.cache_fetch('ARG+POLYAMINE-SYN')"
   ]
  },
  {
   "cell_type": "code",
   "execution_count": 16,
   "id": "cf19c83e-2a7f-4aaf-84b6-a358322b468a",
   "metadata": {},
   "outputs": [],
   "source": [
    "%run /home/fliu/workspace/python3/ModelSEEDpy-Ext/modelseedpy_ext/biocyc/parser.py\n",
    "o = BiocycCompoundParser().parse(BytesIO(api.fetch('WATER')))"
   ]
  },
  {
   "cell_type": "code",
   "execution_count": 37,
   "id": "2edff593-d6a2-4f30-8aa1-9c6d05a912ee",
   "metadata": {},
   "outputs": [],
   "source": [
    "passed = set()"
   ]
  },
  {
   "cell_type": "code",
   "execution_count": 45,
   "id": "0bf874e9-f584-4c74-aa9f-cdef4fd36668",
   "metadata": {},
   "outputs": [],
   "source": [
    "res = api.cache_fetch(i)"
   ]
  },
  {
   "cell_type": "code",
   "execution_count": 48,
   "id": "9d8c3492-9eef-4ac9-be34-2606b299f0d8",
   "metadata": {},
   "outputs": [
    {
     "name": "stdout",
     "output_type": "stream",
     "text": [
      "{'Rhamnose', 'RHAMNOSE'}\n",
      "{'Arabinose-5P', 'ARABINOSE-5P'}\n",
      "{'GALACTOSE', 'Galactose'}\n",
      "{'Ribose', 'RIBOSE'}\n",
      "{'L-LYXOSE', 'L-Lyxose'}\n"
     ]
    }
   ],
   "source": [
    "dups = {}\n",
    "for i in api.cache_query(BiocycQuery.Compounds):\n",
    "    _i_lower = i.lower()\n",
    "    if _i_lower not in dups:\n",
    "        dups[_i_lower] = set()\n",
    "    dups[_i_lower].add(i)\n",
    "skip = set()\n",
    "for k in dups:\n",
    "    if len(dups[k]) > 1:\n",
    "        skip |= dups[k]\n",
    "        print(dups[k])"
   ]
  },
  {
   "cell_type": "code",
   "execution_count": 57,
   "id": "4afd5e31-9102-4e02-9f33-382ae1481824",
   "metadata": {
    "collapsed": true,
    "jupyter": {
     "outputs_hidden": true
    },
    "tags": []
   },
   "outputs": [
    {
     "name": "stdout",
     "output_type": "stream",
     "text": [
      "! A-HEP-1:5_0:D\n",
      "! RHAMNOSE\n",
      "! Arabinose-5P\n",
      "! B-DARA-PEN-1:5\n",
      "! X-LGAL-HEX-1:5\n",
      "! B-DIDO-HEX-1:5_6:A\n",
      "! X-DRIB-PEN-1:4\n",
      "! A-HEX-1:5\n",
      "! A-DGAL-HEX-1:4\n",
      "! B-LGAL-HEX-1:5\n",
      "! X-LGAL-HEX-1:5_6:D\n",
      "! A-HEX-1:5_6:A\n",
      "! X-DMAN-HEX-X:X\n",
      "! X-LARA-PEN-1:5\n",
      "! A-DGRO-DGAL-NON-2:6_1:A_2:KETO_3:D\n",
      "! B-LARA-PEN-1:4\n",
      "! B-PEN-1:4\n",
      "! X-DMAN-OCT-2:6_1:A_2:KETO_3:D\n",
      "! A-LMAN-HEX-1:5\n",
      "! B-DGAL-HEX-1:5_6:D\n",
      "! B-HEP-1:5\n",
      "! Galactose\n",
      "! A-DGLC-HEX-1:4\n",
      "! A-DGLC-HEX-1:5\n",
      "! A-DGLC-HEX-1:5_6:A\n",
      "! B-HEX-1:5_6:A\n",
      "! X-PEN-1:4\n",
      "! A-LGLC-HEX-1:5_6:D\n",
      "! A-DGLC-HEX-1:5_6:D\n",
      "! B-DGLC-HEX-1:5_6:A\n",
      "! A-LGLC-HEX-1:5_6:A\n",
      "! B-DGAL-HEX-1:5\n",
      "! O-DGLC-HEX-0:0_1:ALDI_6:D\n",
      "! B-HEX-1:5\n",
      "! GALACTOSE\n",
      "! X-HEX-1:5_6:A\n",
      "! X-DGLC-HEX-1:5\n",
      "! A-DMAN-OCT-2:6_1:A_2:KETO_3:D\n",
      "! A-DGAL-HEX-1:5_6:A\n",
      "! B-HEX-1:5_6:D\n",
      "! Ribose\n",
      "! B-LMAN-HEX-1:5_6:D\n",
      "! B-HEP-1:5_0:D\n",
      "! B-DXYL-PEN-1:5\n",
      "! B-DRIB-PEN-1:4\n",
      "! B-DGAL-HEX-1:4_6:D\n",
      "! B-DMAN-HEX-1:5_6:D\n",
      "! X-DGLC-HEX-1:5_6:D\n",
      "! X-LIDO-HEX-1:5_6:A\n",
      "! B-DGAL-HEX-1:5_6:A\n",
      "! X-HEX-1:5\n",
      "! X-DXYL-PEN-1:5\n",
      "! X-DMAN-HEX-1:5\n",
      "! A-DMAN-HEX-1:5_6:D\n",
      "! B-DARA-HEX-2:6_2:KETO\n",
      "! A-DGLC-HEX-1:4_6:A\n",
      "! B-DARA-HEX-2:5_2:KETO\n",
      "! X-DMAN-HEX-1:4\n",
      "! A-DGAL-HEX-1:5_6:D\n",
      "! X-PEN-1:5\n",
      "! RIBOSE\n",
      "! A-LMAN-HEX-1:5_6:D\n",
      "! L-Lyxose\n",
      "! B-HEP-X:X_0:D\n",
      "! A-LGAL-HEX-1:5_6:D\n",
      "! B-HEP-X:X\n",
      "! X-DGLC-HEX-1:4\n",
      "! B-XGLC-HEX-1:5_6:A\n",
      "! A-HEX-1:5_6:D\n",
      "! O-DGAL-HEX-0:0\n",
      "! B-DGLC-HEX-1:5_6:D\n",
      "! A-LGAL-HEX-1:5\n",
      "! B-DGRO-DGAL-NON-2:6_1:A_2:KETO_3:D\n",
      "! B-DGLC-HEX-1:5\n",
      "! A-LARA-PEN-1:4\n",
      "! X-HEP-X:X\n",
      "! A-DMAN-HEX-1:5_6:A\n",
      "! A-DXYL-PEN-1:5\n",
      "! phosphatidylcholine-30:0\n",
      "! A-HEP-1:5\n",
      "! X-DMAN-HEX-1:5_6:A\n",
      "! X-LARA-PEN-1:4\n",
      "! B-LGAL-HEX-1:5_6:D\n",
      "! A-DARA-HEX-2:5_2:KETO\n",
      "! X-DMAN-HEX-1:5_6:D\n",
      "! B-DMAN-OCT-2:6_1:A_2:KETO_3:D\n",
      "! X-DARA-HEX-2:6_2:KETO\n",
      "! X-DGRO-DGAL-NON-2:6_1:A_2:KETO_3:D\n",
      "! ARABINOSE-5P\n",
      "! X-HEP-1:5\n",
      "! X-DARA-HEX-2:5_2:KETO\n",
      "! A-DARA-PEN-1:4\n",
      "! A-LXYL-PEN-1:5\n",
      "! X-DARA-PEN-1:4\n",
      "! B-DMAN-HEX-1:5_6:A\n",
      "! X-DGAL-HEX-1:5\n",
      "! X-DGAL-HEX-1:5_6:A\n",
      "! B-XXYL-PEN-1:5\n",
      "! A-LIDO-HEX-1:5_6:A\n",
      "! A-XGLC-HEX-1:5\n",
      "! B-LGLC-HEX-1:5_6:A\n",
      "! B-DARA-PEN-1:4\n",
      "! B-LARA-PEN-1:5\n",
      "! A-HEP-X:X\n",
      "! X-DGLC-HEX-X:X\n",
      "! A-DGAL-HEX-1:5\n",
      "! B-XGLC-HEX-1:5_6:D\n",
      "! B-PEN-1:5\n",
      "! X-DGAL-HEX-1:4\n",
      "! A-DMAN-HEX-1:5\n",
      "! O-DGAL-HEX-0:0_1:ALDI\n",
      "! A-LARA-PEN-1:5\n",
      "! B-DMAN-HEX-1:5\n",
      "! L-LYXOSE\n",
      "! Rhamnose\n",
      "! A-XGAL-HEX-1:5_6:A\n",
      "! B-XGAL-HEX-1:5\n",
      "! X-LMAN-HEX-1:5_6:D\n",
      "! A-DIDO-HEX-1:5_6:A\n",
      "! X-DGLC-HEX-1:5_6:A\n",
      "! X-DALL-HEX-1:5\n",
      "! B-DGLC-HEX-1:4\n",
      "! B-LIDO-HEX-1:5_6:A\n",
      "! A-DGAL-HEX-1:4_6:D\n",
      "! B-DGAL-HEX-1:4\n"
     ]
    }
   ],
   "source": [
    "%run /home/fliu/workspace/python3/ModelSEEDpy-Ext/modelseedpy_ext/biocyc/parser.py\n",
    "for i in api.cache_query(BiocycQuery.Compounds):\n",
    "    try:\n",
    "        if ':' not in i and i not in skip:\n",
    "            if i not in passed:\n",
    "                res = api.fetch(i)\n",
    "                o = BiocycCompoundParser().parse(BytesIO(res))\n",
    "                passed.add(i)\n",
    "        else:\n",
    "            print('!', i)\n",
    "    except Exception as e:\n",
    "        print(i)\n",
    "        print(e)\n",
    "        raise e"
   ]
  },
  {
   "cell_type": "code",
   "execution_count": 17,
   "id": "6a5d0b7b-e8e4-4e11-8dce-801f4b0845d4",
   "metadata": {},
   "outputs": [
    {
     "name": "stdout",
     "output_type": "stream",
     "text": [
      "cml\n",
      "None\n",
      "\n",
      "appears-in-right-side-of\n",
      "None\n",
      "\n",
      "inchi\n",
      "({'datatype': 'string'}, 'InChI=1S/H2O/h1H2')\n",
      "\n",
      "synonym\n",
      "[({'datatype': 'string'}, 'H2O'), ({'datatype': 'string'}, 'hydrogen oxide'), ({'datatype': 'string'}, 'water')]\n",
      "\n",
      "molecular-weight\n",
      "({'datatype': 'float', 'units': 'Daltons'}, '18.015')\n",
      "\n",
      "monoisotopic-mw\n",
      "({'datatype': 'float', 'units': 'Daltons'}, '18.010565')\n",
      "\n",
      "component-of\n",
      "({'resource': 'getxml?META:CPD0-2389', 'orgid': 'META', 'frameid': 'CPD0-2389'}, None, [({'resource': 'getxml?META:CPD-22910', 'orgid': 'META', 'frameid': 'CPD-22910'}, None), ({'resource': 'getxml?META:CPD-25856', 'orgid': 'META', 'frameid': 'CPD-25856'}, None), ({'resource': 'getxml?META:CPD-25839', 'orgid': 'META', 'frameid': 'CPD-25839'}, None), ({'resource': 'getxml?META:CPD-25070', 'orgid': 'META', 'frameid': 'CPD-25070'}, None), ({'resource': 'getxml?META:CPD-25161', 'orgid': 'META', 'frameid': 'CPD-25161'}, None), ({'resource': 'getxml?META:CPD-25089', 'orgid': 'META', 'frameid': 'CPD-25089'}, None), ({'resource': 'getxml?META:CPD-25123', 'orgid': 'META', 'frameid': 'CPD-25123'}, None), ({'resource': 'getxml?META:CPD-24878', 'orgid': 'META', 'frameid': 'CPD-24878'}, None), ({'resource': 'getxml?META:CPD-25067', 'orgid': 'META', 'frameid': 'CPD-25067'}, None), ({'resource': 'getxml?META:CPD-24874', 'orgid': 'META', 'frameid': 'CPD-24874'}, None), ({'resource': 'getxml?META:CPD-25136', 'orgid': 'META', 'frameid': 'CPD-25136'}, None), ({'resource': 'getxml?META:CPD-24840', 'orgid': 'META', 'frameid': 'CPD-24840'}, None), ({'resource': 'getxml?META:CPD-24838', 'orgid': 'META', 'frameid': 'CPD-24838'}, None), ({'resource': 'getxml?META:CPD-24384', 'orgid': 'META', 'frameid': 'CPD-24384'}, None), ({'resource': 'getxml?META:CPD-19634', 'orgid': 'META', 'frameid': 'CPD-19634'}, None), ({'resource': 'getxml?META:CPD-22904', 'orgid': 'META', 'frameid': 'CPD-22904'}, None), ({'resource': 'getxml?META:CPD-22902', 'orgid': 'META', 'frameid': 'CPD-22902'}, None), ({'resource': 'getxml?META:CPD-22886', 'orgid': 'META', 'frameid': 'CPD-22886'}, None), ({'resource': 'getxml?META:CPD-22885', 'orgid': 'META', 'frameid': 'CPD-22885'}, None), ({'resource': 'getxml?META:CPD0-2621', 'orgid': 'META', 'frameid': 'CPD0-2621'}, None), ({'resource': 'getxml?META:CPD0-2622', 'orgid': 'META', 'frameid': 'CPD0-2622'}, None), ({'resource': 'getxml?META:CPD-19638', 'orgid': 'META', 'frameid': 'CPD-19638'}, None), ({'resource': 'getxml?META:CPD-19633', 'orgid': 'META', 'frameid': 'CPD-19633'}, None), ({'resource': 'getxml?META:CPD0-2508', 'orgid': 'META', 'frameid': 'CPD0-2508'}, None), ({'resource': 'getxml?META:CPD0-2506', 'orgid': 'META', 'frameid': 'CPD0-2506'}, None), ({'resource': 'getxml?META:CPD0-2505', 'orgid': 'META', 'frameid': 'CPD0-2505'}, None), ({'resource': 'getxml?META:CPD0-2504', 'orgid': 'META', 'frameid': 'CPD0-2504'}, None), ({'resource': 'getxml?META:CPD0-2507', 'orgid': 'META', 'frameid': 'CPD0-2507'}, None), ({'resource': 'getxml?META:CPD0-2434', 'orgid': 'META', 'frameid': 'CPD0-2434'}, None), ({'resource': 'getxml?META:CPD0-2420', 'orgid': 'META', 'frameid': 'CPD0-2420'}, None), ({'resource': 'getxml?META:CPD0-2419', 'orgid': 'META', 'frameid': 'CPD0-2419'}, None), ({'resource': 'getxml?META:CPD0-2418', 'orgid': 'META', 'frameid': 'CPD0-2418'}, None), ({'resource': 'getxml?META:CPD0-2387', 'orgid': 'META', 'frameid': 'CPD0-2387'}, None), ({'resource': 'getxml?META:CPD0-2389', 'orgid': 'META', 'frameid': 'CPD0-2389'}, None)])\n",
      "\n",
      "dblink\n",
      "[{'dblink-db': 'BIGG', 'dblink-oid': 'h2o', 'dblink-relationship': 'unification', 'dblink-URL': 'http://bigg.ucsd.edu/universal/metabolites/h2o'}, {'dblink-db': 'METABOLIGHTS', 'dblink-oid': 'MTBLC15377', 'dblink-relationship': 'unification', 'dblink-URL': 'http://www.ebi.ac.uk/metabolights/MTBLC15377'}, {'dblink-db': 'HMDB', 'dblink-oid': 'HMDB02111', 'dblink-relationship': 'unification', 'dblink-URL': 'http://www.hmdb.ca/metabolites/HMDB02111'}, {'dblink-db': 'CHEMSPIDER', 'dblink-oid': '937', 'dblink-relationship': 'unification', 'dblink-URL': 'http://www.chemspider.com/937'}, {'dblink-db': 'CHEBI', 'dblink-oid': '15377', 'dblink-relationship': 'unification', 'dblink-URL': 'http://www.ebi.ac.uk/chebi/searchId.do?chebiId=CHEBI:15377'}, {'dblink-db': 'PUBCHEM', 'dblink-oid': '962', 'dblink-relationship': 'unification', 'dblink-URL': 'http://pubchem.ncbi.nlm.nih.gov/summary/summary.cgi?cid=962'}, {'dblink-db': 'LIGAND-CPD', 'dblink-oid': 'C00001', 'dblink-relationship': 'unification', 'dblink-URL': 'http://www.genome.ad.jp/dbget-bin/www_bget?C00001'}, {'dblink-db': 'CAS', 'dblink-oid': '7732-18-5', 'dblink-relationship': 'unification', 'dblink-URL': 'http://www.commonchemistry.org/ChemicalDetail.aspx?ref=7732-18-5'}]\n",
      "\n",
      "inchi-key\n",
      "({'datatype': 'string'}, 'InChIKey=XLYOFNOQVPJJNP-UHFFFAOYSA-N')\n",
      "\n",
      "common-name\n",
      "({'datatype': 'string'}, 'H<sub>2</sub>O')\n",
      "\n",
      "gibbs-0\n",
      "None\n",
      "\n",
      "appears-in-left-side-of\n",
      "None\n",
      "\n"
     ]
    }
   ],
   "source": [
    "for k in o[1]:\n",
    "    print(k)\n",
    "    print(o[1][k])\n",
    "    print()"
   ]
  },
  {
   "cell_type": "code",
   "execution_count": 76,
   "id": "09749ec8-f7fc-4073-85af-41866a52ed54",
   "metadata": {},
   "outputs": [
    {
     "name": "stdout",
     "output_type": "stream",
     "text": [
      "{'Cofactor-Degradation', 'COFACTOR-DEGRADATION'}\n"
     ]
    }
   ],
   "source": [
    "dups = {}\n",
    "for i in api.cache_query(BiocycQuery.Pathways):\n",
    "    _i_lower = i.lower()\n",
    "    if _i_lower not in dups:\n",
    "        dups[_i_lower] = set()\n",
    "    dups[_i_lower].add(i)\n",
    "skip = set()\n",
    "for k in dups:\n",
    "    if len(dups[k]) > 1:\n",
    "        skip |= dups[k]\n",
    "        print(dups[k])\n",
    "passed = set()"
   ]
  },
  {
   "cell_type": "code",
   "execution_count": 100,
   "id": "b23c8ff1-9035-4f5f-8b2e-5ec4bb7d8406",
   "metadata": {},
   "outputs": [
    {
     "name": "stdout",
     "output_type": "stream",
     "text": [
      "! COFACTOR-DEGRADATION\n",
      "! Cofactor-Degradation\n"
     ]
    }
   ],
   "source": [
    "%run /home/fliu/workspace/python3/ModelSEEDpy-Ext/modelseedpy_ext/biocyc/parser.py\n",
    "for i in api.cache_query(BiocycQuery.Pathways):\n",
    "    try:\n",
    "        if ':' not in i and i not in skip:\n",
    "            if i not in passed:\n",
    "                res = api.fetch(i)\n",
    "                o = BiocycPathwayParser().parse(BytesIO(res))\n",
    "                passed.add(i)\n",
    "        else:\n",
    "            print('!', i)\n",
    "    except Exception as e:\n",
    "        print(i)\n",
    "        print(e)\n",
    "        raise e"
   ]
  },
  {
   "cell_type": "code",
   "execution_count": 147,
   "id": "1ce70830-9e21-4106-b7c8-d767f2d609e5",
   "metadata": {},
   "outputs": [
    {
     "name": "stdout",
     "output_type": "stream",
     "text": [
      "{'HOLO-ENTB', 'Holo-EntB'}\n",
      "{'HyCE-Ni-Fe-CO-CN2', 'HycE-Ni-Fe-CO-CN2'}\n"
     ]
    }
   ],
   "source": [
    "dups = {}\n",
    "for i in api.cache_query(BiocycQuery.Proteins):\n",
    "    _i_lower = i.lower()\n",
    "    if _i_lower not in dups:\n",
    "        dups[_i_lower] = set()\n",
    "    dups[_i_lower].add(i)\n",
    "skip = set()\n",
    "for k in dups:\n",
    "    if len(dups[k]) > 1:\n",
    "        skip |= dups[k]\n",
    "        print(dups[k])\n",
    "passed = set()"
   ]
  },
  {
   "cell_type": "code",
   "execution_count": 171,
   "id": "608c0f7d-98ac-466d-9ee6-2bf8dbc9cd04",
   "metadata": {},
   "outputs": [
    {
     "name": "stdout",
     "output_type": "stream",
     "text": [
      "! MGI:3027917-MONOMER\n",
      "! MGI:108074-MONOMER\n",
      "! MGI:1353434-MONOMER\n",
      "! Holo-EntB\n",
      "! phosphate:Nasup+sup-symporter-family\n",
      "! MGI:1927578-MONOMER\n",
      "! HycE-Ni-Fe-CO-CN2\n",
      "! MGI:1859310-MONOMER\n",
      "! MGI:94876-MONOMER\n",
      "! MGI:1328365-MONOMER\n",
      "! MGI:96090-MONOMER\n",
      "! HyCE-Ni-Fe-CO-CN2\n",
      "! MGI:1306785-MONOMER\n",
      "! HOLO-ENTB\n",
      "! MGI:1929955-MONOMER\n",
      "! MGI:98325-MONOMER\n",
      "! MGI:2181962-MONOMER\n",
      "! MGI:2444110-MONOMER\n",
      "! MGI:2183447-MONOMER\n",
      "! MGI:108024-MONOMER\n",
      "! MGI:2135760-MONOMER\n",
      "! MGI:2444678-MONOMER\n",
      "! MGI:1261415-MONOMER\n",
      "! MGI:1924876-MONOMER\n",
      "! MGI:1278330-MONOMER\n",
      "! MGI:1277124-MONOMER\n",
      "! MGI:1316649-MONOMER\n",
      "! MGI:1921692-MONOMER\n",
      "! MGI:1914353-MONOMER\n",
      "! MGI:1861380-MONOMER\n",
      "! MGI:1099431-MONOMER\n"
     ]
    }
   ],
   "source": [
    "%run /home/fliu/workspace/python3/ModelSEEDpy-Ext/modelseedpy_ext/biocyc/parser.py\n",
    "for i in api.cache_query(BiocycQuery.Proteins):\n",
    "    try:\n",
    "        if ':' not in i and i not in skip:\n",
    "            if i not in passed:\n",
    "                res = api.fetch(i)\n",
    "                o = BiocycProteinParser().parse(BytesIO(res))\n",
    "                passed.add(i)\n",
    "        else:\n",
    "            print('!', i)\n",
    "    except Exception as e:\n",
    "        print(i)\n",
    "        print(e)\n",
    "        print(len(passed))\n",
    "        raise e\n"
   ]
  },
  {
   "cell_type": "code",
   "execution_count": 172,
   "id": "66fa69e3-a674-4d95-9b47-e2a9e509aba1",
   "metadata": {},
   "outputs": [],
   "source": [
    "dups = {}\n",
    "for i in api.cache_query(BiocycQuery.Reactions):\n",
    "    _i_lower = i.lower()\n",
    "    if _i_lower not in dups:\n",
    "        dups[_i_lower] = set()\n",
    "    dups[_i_lower].add(i)\n",
    "skip = set()\n",
    "for k in dups:\n",
    "    if len(dups[k]) > 1:\n",
    "        skip |= dups[k]\n",
    "        print(dups[k])\n",
    "passed = set()"
   ]
  },
  {
   "cell_type": "code",
   "execution_count": 203,
   "id": "db56ca75-e1c3-42b9-b3f7-29fb5f3a396a",
   "metadata": {},
   "outputs": [],
   "source": [
    "skip.add('2.3.1.165-RXN')\n",
    "skip.add('2.4.1.100-RXN')\n",
    "skip.add('6.3.2.26-RXN')"
   ]
  },
  {
   "cell_type": "code",
   "execution_count": 204,
   "id": "6b071e89-b501-434d-bc44-25dbd35cafee",
   "metadata": {},
   "outputs": [
    {
     "name": "stdout",
     "output_type": "stream",
     "text": [
      "! 2.3.1.165-RXN\n",
      "! 2.4.1.100-RXN\n",
      "! 6.3.2.26-RXN\n"
     ]
    }
   ],
   "source": [
    "%run /home/fliu/workspace/python3/ModelSEEDpy-Ext/modelseedpy_ext/biocyc/parser.py\n",
    "for i in api.cache_query(BiocycQuery.Reactions):\n",
    "    try:\n",
    "        if ':' not in i and i not in skip:\n",
    "            if i not in passed:\n",
    "                res = api.fetch(i)\n",
    "                o = BiocycReactionParser().parse(BytesIO(res))\n",
    "                passed.add(i)\n",
    "        else:\n",
    "            print('!', i)\n",
    "    except Exception as e:\n",
    "        print(i)\n",
    "        print(e)\n",
    "        print(len(passed))\n",
    "        raise e\n"
   ]
  },
  {
   "cell_type": "code",
   "execution_count": 190,
   "id": "14a81402-43b4-4f87-a444-cb808189c2ae",
   "metadata": {},
   "outputs": [
    {
     "data": {
      "text/plain": [
       "({'ID': 'META:3.6.4.2-RXN',\n",
       "  'orgid': 'META',\n",
       "  'frameid': '3.6.4.2-RXN',\n",
       "  'detail': 'full'},\n",
       " {'parent': [({'resource': 'getxml?META:Chemical-Reactions',\n",
       "     'orgid': 'META',\n",
       "     'frameid': 'Chemical-Reactions',\n",
       "     'class': 'true'},\n",
       "    None),\n",
       "   ({'resource': 'getxml?META:Small-Molecule-Reactions',\n",
       "     'orgid': 'META',\n",
       "     'frameid': 'Small-Molecule-Reactions',\n",
       "     'class': 'true'},\n",
       "    None)],\n",
       "  'left': [{'species': {'resource': 'getxml?META:Dynein-Microtubles-Complex',\n",
       "     'orgid': 'META',\n",
       "     'frameid': 'Dynein-Microtubles-Complex',\n",
       "     'class': 'true'},\n",
       "    'compartment': None,\n",
       "    'coefficient': None,\n",
       "    'name_slot': 'N-Name'},\n",
       "   {'species': {'resource': 'getxml?META:ATP',\n",
       "     'orgid': 'META',\n",
       "     'frameid': 'ATP'},\n",
       "    'compartment': None,\n",
       "    'coefficient': None,\n",
       "    'name_slot': None},\n",
       "   {'species': {'resource': 'getxml?META:WATER',\n",
       "     'orgid': 'META',\n",
       "     'frameid': 'WATER'},\n",
       "    'compartment': None,\n",
       "    'coefficient': None,\n",
       "    'name_slot': None}],\n",
       "  'dblink': [{'dblink-db': 'METANETX-RXN',\n",
       "    'dblink-oid': 'MNXR115582',\n",
       "    'dblink-relationship': 'unification',\n",
       "    'dblink-URL': 'https://www.metanetx.org/equa_info/MNXR115582'}],\n",
       "  'ec-number': [None],\n",
       "  'reaction-direction': None,\n",
       "  'orphan': None,\n",
       "  'physiologically-relevant': None,\n",
       "  'right': [{'species': {'resource': 'getxml?META:Dynein-Microtubles-Complex',\n",
       "     'orgid': 'META',\n",
       "     'frameid': 'Dynein-Microtubles-Complex',\n",
       "     'class': 'true'},\n",
       "    'compartment': None,\n",
       "    'coefficient': None,\n",
       "    'name_slot': 'N-1-Name'},\n",
       "   {'species': {'resource': 'getxml?META:ADP',\n",
       "     'orgid': 'META',\n",
       "     'frameid': 'ADP'},\n",
       "    'compartment': None,\n",
       "    'coefficient': None,\n",
       "    'name_slot': None},\n",
       "   {'species': {'resource': 'getxml?META:Pi',\n",
       "     'orgid': 'META',\n",
       "     'frameid': 'Pi'},\n",
       "    'compartment': None,\n",
       "    'coefficient': None,\n",
       "    'name_slot': None},\n",
       "   {'species': {'resource': 'getxml?META:PROTON',\n",
       "     'orgid': 'META',\n",
       "     'frameid': 'PROTON'},\n",
       "    'compartment': None,\n",
       "    'coefficient': None,\n",
       "    'name_slot': None}],\n",
       "  'credits': None})"
      ]
     },
     "execution_count": 190,
     "metadata": {},
     "output_type": "execute_result"
    }
   ],
   "source": [
    "from modelseedpy_ext.biocyc.parser import BiocycParserPass, XmlParseMethod, BiocycParserSingle, BiocycParserDblink\n",
    "from modelseedpy_ext.biocyc.parser import BiocycParseBase, BiocycParseTag, BiocycXmlParser\n",
    "import lxml.etree as et\n",
    "\n",
    "%run /home/fliu/workspace/python3/ModelSEEDpy-Ext/modelseedpy_ext/biocyc/parser.py\n",
    "\n",
    "from io import BytesIO\n",
    "o = BiocycReactionParser().parse(BytesIO(api.fetch('3.6.4.2-RXN')))\n",
    "o"
   ]
  },
  {
   "cell_type": "code",
   "execution_count": 78,
   "id": "8cc6b4a5-96a7-4975-b245-a2e894a2dead",
   "metadata": {},
   "outputs": [
    {
     "name": "stdout",
     "output_type": "stream",
     "text": [
      "1 Chitodextrins  + n WATER  <=> n+1 CHITOBIOSE \n"
     ]
    }
   ],
   "source": [
    "def _print_eq(res):\n",
    "    data = res[1]\n",
    "    l = []\n",
    "    r = []\n",
    "    for s, c, v in data['left']:\n",
    "        compartment = \"\" if c is None else c[0]['frameid']\n",
    "        v = 1 if v is None else v\n",
    "        s = f\"{v} {s['frameid']} {compartment}\"\n",
    "        l.append(s)\n",
    "    for s, c, v in data['right']:\n",
    "        compartment = \"\" if c is None else c[0]['frameid']\n",
    "        v = 1 if v is None else v\n",
    "        s = f\"{v} {s['frameid']} {compartment}\"\n",
    "        r.append(s)\n",
    "        \n",
    "    print(' + '.join(l) + ' <=> ' + ' + '.join(r))\n",
    "_print_eq(o)"
   ]
  },
  {
   "cell_type": "code",
   "execution_count": 104,
   "id": "2f5a0364-6ae9-4849-bbec-4bc1d2498104",
   "metadata": {},
   "outputs": [
    {
     "name": "stdout",
     "output_type": "stream",
     "text": [
      "ENZRXN-25184 MONOMER-20051\n",
      "({'ID': 'META:ENZRXN-25184', 'orgid': 'META', 'frameid': 'ENZRXN-25184', 'detail': 'low'}, {'enzyme': ({'resource': 'getxml?META:MONOMER-20051', 'orgid': 'META', 'frameid': 'MONOMER-20051'}, None, [({'resource': 'getxml?META:MONOMER-20051', 'orgid': 'META', 'frameid': 'MONOMER-20051'}, None)]), 'reaction': ({'resource': '#META:RXN-12309', 'orgid': 'META', 'frameid': 'RXN-12309'}, None, [({'resource': '#META:RXN-12309', 'orgid': 'META', 'frameid': 'RXN-12309'}, None)]), 'common-name': ({'datatype': 'string'}, 'exo-chitinase (non-reducing end)')})\n",
      "\n",
      "ENZRXN-25179 MONOMER-16775\n",
      "({'ID': 'META:ENZRXN-25179', 'orgid': 'META', 'frameid': 'ENZRXN-25179', 'detail': 'low'}, {'enzyme': ({'resource': 'getxml?META:MONOMER-16775', 'orgid': 'META', 'frameid': 'MONOMER-16775'}, None, [({'resource': 'getxml?META:MONOMER-16775', 'orgid': 'META', 'frameid': 'MONOMER-16775'}, None)]), 'synonym': ({'datatype': 'string'}, 'chitinase'), 'reaction': ({'resource': '#META:RXN-12309', 'orgid': 'META', 'frameid': 'RXN-12309'}, None, [({'resource': '#META:RXN-12309', 'orgid': 'META', 'frameid': 'RXN-12309'}, None)]), 'common-name': ({'datatype': 'string'}, 'chitodextrinase (non-reducing end)')})\n",
      "\n",
      "ENZRXN-19052 AT4G19810-MONOMER\n",
      "({'ID': 'META:ENZRXN-19052', 'orgid': 'META', 'frameid': 'ENZRXN-19052', 'detail': 'low'}, {'enzyme': ({'resource': 'getxml?META:AT4G19810-MONOMER', 'orgid': 'META', 'frameid': 'AT4G19810-MONOMER'}, None, [({'resource': 'getxml?META:AT4G19810-MONOMER', 'orgid': 'META', 'frameid': 'AT4G19810-MONOMER'}, None)]), 'reaction': ({'resource': '#META:RXN-12309', 'orgid': 'META', 'frameid': 'RXN-12309'}, None, [({'resource': '#META:RXN-12309', 'orgid': 'META', 'frameid': 'RXN-12309'}, None)]), 'common-name': ({'datatype': 'string'}, 'chitodextrinase (non-reducing end)')})\n",
      "\n"
     ]
    }
   ],
   "source": [
    "for data in o[1]['enzymatic-reaction'][1]['Enzymatic-Reaction']:\n",
    "    print(data[0]['frameid'], data[1]['enzyme'][0]['frameid'])\n",
    "    print(data)\n",
    "    print()"
   ]
  },
  {
   "cell_type": "code",
   "execution_count": 113,
   "id": "6ebe771e-4ab6-49cf-8283-21215540722a",
   "metadata": {},
   "outputs": [],
   "source": [
    "res = api.query(BiocycQuery.Pathways)"
   ]
  },
  {
   "cell_type": "code",
   "execution_count": null,
   "id": "3b4c1702-7f09-4c51-ac93-532ddc278629",
   "metadata": {},
   "outputs": [],
   "source": [
    "s = requests.Session() # create session\n",
    "    # Post login credentials to session:\n",
    "    s.post('https://websvc.biocyc.org/credentials/login/', data={'email':'[email]', 'password':'[password]'})\n",
    "    # Issue web service request:\n",
    "    r = s.get('https://websvc.biocyc.org/[request]')"
   ]
  },
  {
   "cell_type": "code",
   "execution_count": 119,
   "id": "8f9cc10e-ceeb-4fd2-bb3c-a45a30d97303",
   "metadata": {},
   "outputs": [
    {
     "ename": "TypeError",
     "evalue": "cache_fetch() missing 1 required positional argument: 'object_type'",
     "output_type": "error",
     "traceback": [
      "\u001b[0;31m---------------------------------------------------------------------------\u001b[0m",
      "\u001b[0;31mTypeError\u001b[0m                                 Traceback (most recent call last)",
      "\u001b[0;32m/tmp/ipykernel_3797400/847398955.py\u001b[0m in \u001b[0;36m<module>\u001b[0;34m\u001b[0m\n\u001b[0;32m----> 1\u001b[0;31m \u001b[0mres\u001b[0m \u001b[0;34m=\u001b[0m \u001b[0mapi\u001b[0m\u001b[0;34m.\u001b[0m\u001b[0mfetch\u001b[0m\u001b[0;34m(\u001b[0m\u001b[0;34m'RXN-15479'\u001b[0m\u001b[0;34m)\u001b[0m\u001b[0;34m\u001b[0m\u001b[0;34m\u001b[0m\u001b[0m\n\u001b[0m",
      "\u001b[0;32m/tmp/ipykernel_3797400/4048397780.py\u001b[0m in \u001b[0;36mfetch\u001b[0;34m(self, frame_id, detail)\u001b[0m\n\u001b[1;32m     47\u001b[0m \u001b[0;34m\u001b[0m\u001b[0m\n\u001b[1;32m     48\u001b[0m     \u001b[0;32mdef\u001b[0m \u001b[0mfetch\u001b[0m\u001b[0;34m(\u001b[0m\u001b[0mself\u001b[0m\u001b[0;34m,\u001b[0m \u001b[0mframe_id\u001b[0m\u001b[0;34m,\u001b[0m \u001b[0mdetail\u001b[0m\u001b[0;34m=\u001b[0m\u001b[0;34m'high'\u001b[0m\u001b[0;34m)\u001b[0m\u001b[0;34m:\u001b[0m\u001b[0;34m\u001b[0m\u001b[0;34m\u001b[0m\u001b[0m\n\u001b[0;32m---> 49\u001b[0;31m         \u001b[0mdata\u001b[0m \u001b[0;34m=\u001b[0m \u001b[0mself\u001b[0m\u001b[0;34m.\u001b[0m\u001b[0mcache_fetch\u001b[0m\u001b[0;34m(\u001b[0m\u001b[0mframe_id\u001b[0m\u001b[0;34m)\u001b[0m\u001b[0;34m\u001b[0m\u001b[0;34m\u001b[0m\u001b[0m\n\u001b[0m\u001b[1;32m     50\u001b[0m         \u001b[0;32mif\u001b[0m \u001b[0mdata\u001b[0m\u001b[0;34m:\u001b[0m\u001b[0;34m\u001b[0m\u001b[0;34m\u001b[0m\u001b[0m\n\u001b[1;32m     51\u001b[0m             \u001b[0;32mreturn\u001b[0m \u001b[0mdata\u001b[0m\u001b[0;34m\u001b[0m\u001b[0;34m\u001b[0m\u001b[0m\n",
      "\u001b[0;31mTypeError\u001b[0m: cache_fetch() missing 1 required positional argument: 'object_type'"
     ]
    }
   ],
   "source": [
    "res = api.fetch('RXN-15479')"
   ]
  },
  {
   "cell_type": "code",
   "execution_count": 61,
   "id": "5874ef06-7e6c-4085-90ca-cecba409c0af",
   "metadata": {},
   "outputs": [
    {
     "data": {
      "text/plain": [
       "'Reaction'"
      ]
     },
     "execution_count": 61,
     "metadata": {},
     "output_type": "execute_result"
    }
   ],
   "source": [
    "def _detect_class(resp):\n",
    "    \n",
    "    parser = ET.iterparse(BytesIO(resp.content), events=(\"end\", \"start\"))\n",
    "    for action, elem in parser:\n",
    "        if action == \"end\" and elem.tag == \"metadata\":\n",
    "            for action, elem in parser:\n",
    "                if action == 'start':\n",
    "                    return elem.tag\n",
    "\n",
    "    raise Exception(\"unable to detect class\")\n",
    "_detect_class(res)"
   ]
  },
  {
   "cell_type": "code",
   "execution_count": 136,
   "id": "7ea41550-3af4-4012-972b-2104cedc965b",
   "metadata": {
    "tags": []
   },
   "outputs": [],
   "source": [
    "#print(res.content.decode('utf-8'))"
   ]
  },
  {
   "cell_type": "code",
   "execution_count": 49,
   "id": "2dabacac-d134-44fb-94db-079eb7e5aa55",
   "metadata": {},
   "outputs": [
    {
     "data": {
      "text/plain": [
       "'Pathway'"
      ]
     },
     "execution_count": 49,
     "metadata": {},
     "output_type": "execute_result"
    }
   ],
   "source": [
    "from enum import Enum\n",
    "class BiocycQuery(Enum):\n",
    "    Pathways = 'Pathway'\n",
    "    Reactions = 'Reaction'\n",
    "    Compounds = 'Compound'\n",
    "    Proteins = 'Protein'\n",
    "    Genes = 'Gene'\n",
    "    Organisms = 'Organism'\n",
    "BiocycQuery.Pathways.value"
   ]
  },
  {
   "cell_type": "code",
   "execution_count": 25,
   "id": "71ce5a26-99f9-47cc-b60a-eb53705bfdd8",
   "metadata": {
    "tags": []
   },
   "outputs": [
    {
     "data": {
      "text/plain": [
       "4205"
      ]
     },
     "execution_count": 25,
     "metadata": {},
     "output_type": "execute_result"
    }
   ],
   "source": [
    "from io import BytesIO\n",
    "import lxml.etree as ET\n",
    "\n",
    "def _to_list(resp):\n",
    "    res = {}\n",
    "    \n",
    "    parser = ET.iterparse(BytesIO(resp.content), events=(\"end\", \"start\"))\n",
    "    for action, elem in parser:\n",
    "        if action == \"end\" and elem.tag == \"metadata\":\n",
    "            for action, elem in parser:\n",
    "                if action == 'start':\n",
    "                    if elem.tag not in res:\n",
    "                        res[elem.tag] = []\n",
    "                    res[elem.tag].append([dict(elem.attrib), elem.text])\n",
    "                elif action == \"end\" and elem.tag == \"ptools-xml\":\n",
    "                    return res\n",
    "    \n",
    "    raise Exception(\"unexpected ending\")\n",
    "\n",
    "def _detect_class(xml_str):\n",
    "    clazz = None\n",
    "    return clazz\n",
    "\n",
    "l = _to_list(res)\n",
    "len(l['Pathway'])"
   ]
  },
  {
   "cell_type": "code",
   "execution_count": null,
   "id": "c6837cd5-1e02-4a61-b6f8-988eced3663f",
   "metadata": {
    "tags": []
   },
   "outputs": [],
   "source": []
  },
  {
   "cell_type": "markdown",
   "id": "1d63835d-0efb-4ab2-aef3-358c52725897",
   "metadata": {},
   "source": [
    "### NCBI Eutils"
   ]
  },
  {
   "cell_type": "code",
   "execution_count": null,
   "id": "eb0dc06c-e5f2-4a54-ad49-b0ecda218a6f",
   "metadata": {},
   "outputs": [],
   "source": [
    "https://websvc.biocyc.org/xmlquery?query=[QUERY]&detail=[none|low|full]"
   ]
  }
 ],
 "metadata": {
  "kernelspec": {
   "display_name": "Python 3 (ipykernel)",
   "language": "python",
   "name": "python3"
  },
  "language_info": {
   "codemirror_mode": {
    "name": "ipython",
    "version": 3
   },
   "file_extension": ".py",
   "mimetype": "text/x-python",
   "name": "python",
   "nbconvert_exporter": "python",
   "pygments_lexer": "ipython3",
   "version": "3.8.10"
  }
 },
 "nbformat": 4,
 "nbformat_minor": 5
}
