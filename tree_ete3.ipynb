{
 "cells": [
  {
   "cell_type": "code",
   "execution_count": 16,
   "id": "weekly-compression",
   "metadata": {},
   "outputs": [],
   "source": [
    "import json\n",
    "import cobrakbase\n",
    "import ete3\n",
    "kbase = cobrakbase.KBaseAPI()"
   ]
  },
  {
   "cell_type": "code",
   "execution_count": 3,
   "id": "durable-necklace",
   "metadata": {},
   "outputs": [],
   "source": [
    "tree = kbase.get_from_ws('GenomeTreeKEGG', 80735)"
   ]
  },
  {
   "cell_type": "code",
   "execution_count": 6,
   "id": "prepared-tonight",
   "metadata": {},
   "outputs": [],
   "source": [
    "e = ete3.Tree(tree.tree)"
   ]
  },
  {
   "cell_type": "code",
   "execution_count": 17,
   "id": "engaged-borough",
   "metadata": {},
   "outputs": [],
   "source": [
    "with open('/home/fliu/modelseed_5k/data/5k_taxonomy.json', 'r') as fh:\n",
    "    taxa = json.load(fh)"
   ]
  },
  {
   "cell_type": "code",
   "execution_count": null,
   "id": "tight-method",
   "metadata": {},
   "outputs": [],
   "source": []
  },
  {
   "cell_type": "code",
   "execution_count": 27,
   "id": "filled-correspondence",
   "metadata": {},
   "outputs": [],
   "source": [
    "order = []\n",
    "for o in e.iter_leaf_names():\n",
    "    genome_id = tree.default_node_labels[o].split(' ')[0]\n",
    "    if genome_id.startswith('GCF'):\n",
    "        genome_id = genome_id[:-5]\n",
    "        if genome_id in taxa:\n",
    "            order.append(genome_id)"
   ]
  },
  {
   "cell_type": "code",
   "execution_count": 29,
   "id": "alleged-architecture",
   "metadata": {},
   "outputs": [],
   "source": [
    "with open('/home/fliu/modelseed_5k/data/5k_taxonomy_order.json', 'w') as fh:\n",
    "    fh.write(json.dumps(order))"
   ]
  },
  {
   "cell_type": "code",
   "execution_count": null,
   "id": "greatest-conjunction",
   "metadata": {},
   "outputs": [],
   "source": []
  }
 ],
 "metadata": {
  "kernelspec": {
   "display_name": "Python 3",
   "language": "python",
   "name": "python3"
  },
  "language_info": {
   "codemirror_mode": {
    "name": "ipython",
    "version": 3
   },
   "file_extension": ".py",
   "mimetype": "text/x-python",
   "name": "python",
   "nbconvert_exporter": "python",
   "pygments_lexer": "ipython3",
   "version": "3.8.10"
  }
 },
 "nbformat": 4,
 "nbformat_minor": 5
}
