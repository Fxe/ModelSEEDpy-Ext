{
 "cells": [
  {
   "cell_type": "code",
   "execution_count": 1,
   "id": "considered-content",
   "metadata": {},
   "outputs": [
    {
     "name": "stdout",
     "output_type": "stream",
     "text": [
      "cobrakbase 0.2.8\n"
     ]
    }
   ],
   "source": [
    "import json\n",
    "import cobra\n",
    "import modelseedpy\n",
    "import cobrakbase"
   ]
  },
  {
   "cell_type": "code",
   "execution_count": 15,
   "id": "beginning-graduation",
   "metadata": {},
   "outputs": [],
   "source": [
    "import cobrakbase\n",
    "kbase = cobrakbase.KBaseAPI()\n",
    "template_core = kbase.get_from_ws('core_template_sulfur2', 12218)"
   ]
  },
  {
   "cell_type": "code",
   "execution_count": 3,
   "id": "rapid-favorite",
   "metadata": {},
   "outputs": [],
   "source": [
    "model_data = {\n",
    "    'ecoli': ['GCF_000005845.2', 'iML1515'],\n",
    "    'bsub': ['GCF_000009045.1'],\n",
    "    'pseudo': ['GCF_000006765.1'],\n",
    "    'mgen': ['GCF_000027325.1'],\n",
    "    'shewa': ['GCF_000146165.2'],\n",
    "}"
   ]
  },
  {
   "cell_type": "code",
   "execution_count": 29,
   "id": "direct-product",
   "metadata": {},
   "outputs": [],
   "source": [
    "from cobrakbase.core import KBaseGenome\n",
    "%run super_profile.py\n",
    "genome_ids = ['GCF_000005845.2', 'GCF_000009045.1']\n",
    "\n",
    "def get_model(genome_id):\n",
    "    model = cobra.io.load_json_model('/home/fliu/data/core_models_kegg2/' + genome_id + '.json')\n",
    "    return model\n",
    "def get_genome(genome_id):\n",
    "    genome = None\n",
    "        #genome_id = genome_id[:-5]\n",
    "    with open('/home/fliu/data/genomes_kegg/' + genome_id + '.RAST.json', 'r') as fh:\n",
    "        genome = KBaseGenome.from_dict(json.load(fh))\n",
    "    return genome\n",
    "\n",
    "profiler = GeProf(genome_ids, get_model, None, genome_ids)\n",
    "profiler_atp = AtpCoreGapfillProfiler(profiler, 'bio2')\n",
    "profiler_atp.template = template_core\n",
    "profiler_atp.atp_basic_medias = atp_basic_medias\n",
    "profiler_atp.atp_medias = medias_atp\n",
    "profiler_function = FunctionProfiler(profiler)"
   ]
  },
  {
   "cell_type": "code",
   "execution_count": 31,
   "id": "dried-lesbian",
   "metadata": {},
   "outputs": [
    {
     "data": {
      "text/plain": [
       "<cobrakbase.core.kbasegenomesgenome.KBaseGenome at 0x7f3aaeaafb50>"
      ]
     },
     "execution_count": 31,
     "metadata": {},
     "output_type": "execute_result"
    }
   ],
   "source": [
    "genome = get_genome(genome_ids[0])\n",
    "genome"
   ]
  },
  {
   "cell_type": "code",
   "execution_count": 19,
   "id": "pressed-choir",
   "metadata": {},
   "outputs": [],
   "source": [
    "from modelseedpy.core.msmedia import MSMedia\n",
    "%run modelseedpy_ext/utils.py\n",
    "medias = load_medias('modelseedpy_ext/profiler/medias_core.tsv')\n",
    "medias_atp = {}\n",
    "for media_id in medias:\n",
    "    data = medias[media_id]\n",
    "    media_const = {\n",
    "        'cpd00001': 1000,\n",
    "        'cpd00067': 1000\n",
    "    }\n",
    "    for ex in data:\n",
    "        if data[ex] != 0:\n",
    "            media_const[ex[:-3][3:]] = data[ex]\n",
    "    media = MSMedia.from_dict(media_const)\n",
    "    media.id = media_id\n",
    "    media.name = media_id\n",
    "    #print(media_id, media.get_media_constraints())\n",
    "    medias_atp[media_id] = media\n",
    "basic = ['Glc', 'Ac', 'Pyr', 'Glyc', 'Fum', 'Succ', 'Akg', 'Llac', 'Dlac', 'For']\n",
    "atp_basic_medias = []\n",
    "for k in basic:\n",
    "    atp_basic_medias.append(medias_atp[k])"
   ]
  },
  {
   "cell_type": "code",
   "execution_count": 7,
   "id": "functioning-firmware",
   "metadata": {},
   "outputs": [
    {
     "data": {
      "text/plain": [
       "{'Glc/O2': <modelseedpy.core.msmedia.MSMedia at 0x7f3ab7b2c490>,\n",
       " 'Ac/O2': <modelseedpy.core.msmedia.MSMedia at 0x7f3ab7ca4f40>,\n",
       " 'Etho/O2': <modelseedpy.core.msmedia.MSMedia at 0x7f3ab7ca4a30>,\n",
       " 'Pyr/O2': <modelseedpy.core.msmedia.MSMedia at 0x7f3ab7b1f310>,\n",
       " 'Glyc/O2': <modelseedpy.core.msmedia.MSMedia at 0x7f3ab77dd7c0>,\n",
       " 'Fum/O2': <modelseedpy.core.msmedia.MSMedia at 0x7f3ab77dabb0>,\n",
       " 'Succ/O2': <modelseedpy.core.msmedia.MSMedia at 0x7f3ab77e66d0>,\n",
       " 'Akg/O2': <modelseedpy.core.msmedia.MSMedia at 0x7f3ab77dfa30>,\n",
       " 'LLac/O2': <modelseedpy.core.msmedia.MSMedia at 0x7f3ab77df790>,\n",
       " 'Dlac/O2': <modelseedpy.core.msmedia.MSMedia at 0x7f3ab79ad8e0>,\n",
       " 'For/O2': <modelseedpy.core.msmedia.MSMedia at 0x7f3ab7d93160>,\n",
       " 'Glc': <modelseedpy.core.msmedia.MSMedia at 0x7f3ab7d93940>,\n",
       " 'Ac': <modelseedpy.core.msmedia.MSMedia at 0x7f3ab7d8c400>,\n",
       " 'Etho': <modelseedpy.core.msmedia.MSMedia at 0x7f3ab7d8c1f0>,\n",
       " 'Pyr': <modelseedpy.core.msmedia.MSMedia at 0x7f3ab757b4f0>,\n",
       " 'Glyc': <modelseedpy.core.msmedia.MSMedia at 0x7f3ab7578a90>,\n",
       " 'Fum': <modelseedpy.core.msmedia.MSMedia at 0x7f3ab7578c40>,\n",
       " 'Succ': <modelseedpy.core.msmedia.MSMedia at 0x7f3ab75783d0>,\n",
       " 'Akg': <modelseedpy.core.msmedia.MSMedia at 0x7f3ab79b2b80>,\n",
       " 'Llac': <modelseedpy.core.msmedia.MSMedia at 0x7f3ab7b24490>,\n",
       " 'Dlac': <modelseedpy.core.msmedia.MSMedia at 0x7f3ab7d973d0>,\n",
       " 'For': <modelseedpy.core.msmedia.MSMedia at 0x7f3ab7d97340>,\n",
       " 'mal-L': <modelseedpy.core.msmedia.MSMedia at 0x7f3ab75891f0>,\n",
       " 'For/NO2': <modelseedpy.core.msmedia.MSMedia at 0x7f3ab7589130>,\n",
       " 'For/NO3': <modelseedpy.core.msmedia.MSMedia at 0x7f3ab75892e0>,\n",
       " 'For/NO': <modelseedpy.core.msmedia.MSMedia at 0x7f3ab7589250>,\n",
       " 'Pyr/NO2': <modelseedpy.core.msmedia.MSMedia at 0x7f3ab7589310>,\n",
       " 'Pyr/NO3': <modelseedpy.core.msmedia.MSMedia at 0x7f3ab77ef370>,\n",
       " 'Pyr/NO': <modelseedpy.core.msmedia.MSMedia at 0x7f3ab757d4c0>,\n",
       " 'Ac/NO2': <modelseedpy.core.msmedia.MSMedia at 0x7f3ab757d250>,\n",
       " 'Ac/NO3': <modelseedpy.core.msmedia.MSMedia at 0x7f3ab757ddf0>,\n",
       " 'Ac/NO': <modelseedpy.core.msmedia.MSMedia at 0x7f3ab757d790>,\n",
       " 'Glc/DMSO': <modelseedpy.core.msmedia.MSMedia at 0x7f3ab757da00>,\n",
       " 'Glc/TMAO': <modelseedpy.core.msmedia.MSMedia at 0x7f3ab757dbe0>,\n",
       " 'Pyr/DMSO': <modelseedpy.core.msmedia.MSMedia at 0x7f3ab7d88df0>,\n",
       " 'Pyr/TMAO': <modelseedpy.core.msmedia.MSMedia at 0x7f3ab7e2df40>,\n",
       " 'Pyr/SO4': <modelseedpy.core.msmedia.MSMedia at 0x7f3ab7e2d880>,\n",
       " 'Pyr/SO3': <modelseedpy.core.msmedia.MSMedia at 0x7f3ab7e2dbe0>,\n",
       " 'H2/CO2': <modelseedpy.core.msmedia.MSMedia at 0x7f3ab7e08eb0>,\n",
       " 'H2/Ac': <modelseedpy.core.msmedia.MSMedia at 0x7f3ab7e083d0>,\n",
       " 'For/SO4/H2': <modelseedpy.core.msmedia.MSMedia at 0x7f3ab7e08760>,\n",
       " 'LLac/SO4/H2': <modelseedpy.core.msmedia.MSMedia at 0x7f3ab7b26a60>,\n",
       " 'For/SO4': <modelseedpy.core.msmedia.MSMedia at 0x7f3ab7e036a0>,\n",
       " 'LLac/SO4': <modelseedpy.core.msmedia.MSMedia at 0x7f3ab7e03c10>,\n",
       " 'H2/SO4': <modelseedpy.core.msmedia.MSMedia at 0x7f3ab7e03f10>,\n",
       " 'empty': <modelseedpy.core.msmedia.MSMedia at 0x7f3ab7e03a00>,\n",
       " 'Light': <modelseedpy.core.msmedia.MSMedia at 0x7f3ab7e033d0>,\n",
       " 'ANME': <modelseedpy.core.msmedia.MSMedia at 0x7f3c24d2b4f0>,\n",
       " 'Methane': <modelseedpy.core.msmedia.MSMedia at 0x7f3ab7e0d940>}"
      ]
     },
     "execution_count": 7,
     "metadata": {},
     "output_type": "execute_result"
    }
   ],
   "source": [
    "medias_atp"
   ]
  },
  {
   "cell_type": "code",
   "execution_count": null,
   "id": "otherwise-belle",
   "metadata": {},
   "outputs": [],
   "source": []
  }
 ],
 "metadata": {
  "kernelspec": {
   "display_name": "Python 3",
   "language": "python",
   "name": "python3"
  },
  "language_info": {
   "codemirror_mode": {
    "name": "ipython",
    "version": 3
   },
   "file_extension": ".py",
   "mimetype": "text/x-python",
   "name": "python",
   "nbconvert_exporter": "python",
   "pygments_lexer": "ipython3",
   "version": "3.8.10"
  }
 },
 "nbformat": 4,
 "nbformat_minor": 5
}
